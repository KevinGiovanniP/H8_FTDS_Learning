{
 "cells": [
  {
   "cell_type": "code",
   "execution_count": 4,
   "metadata": {},
   "outputs": [
    {
     "name": "stdout",
     "output_type": "stream",
     "text": [
      "isi variabel angka adalah 15\n",
      "15 lebih kecil dari 10\n"
     ]
    }
   ],
   "source": [
    "#assign sebuah angka kedalam suatu variabel \n",
    "angka = 15\n",
    "print(f\"isi variabel angka adalah {angka}\")\n",
    "print(f\"{angka} lebih kecil dari 10\")"
   ]
  },
  {
   "cell_type": "markdown",
   "metadata": {},
   "source": [
    "Conditional"
   ]
  },
  {
   "cell_type": "code",
   "execution_count": 6,
   "metadata": {},
   "outputs": [],
   "source": [
    "if False:\n",
    "    print(f\"{angka} lebih kecil dari 10\")"
   ]
  },
  {
   "cell_type": "code",
   "execution_count": 7,
   "metadata": {},
   "outputs": [
    {
     "name": "stdout",
     "output_type": "stream",
     "text": [
      "isi variabel angka adalah 15\n",
      "ini sudah diluar if\n"
     ]
    }
   ],
   "source": [
    "angka = 15 \n",
    "print(f\"isi variabel angka adalah {angka}\")\n",
    "if angka < 10:\n",
    "    print(f\"{angka} lebih kecil dari 10\")\n",
    "    print(f\"Ini masih dibawah if\")\n",
    "print(\"ini sudah diluar if\")"
   ]
  },
  {
   "cell_type": "code",
   "execution_count": 8,
   "metadata": {},
   "outputs": [
    {
     "name": "stdout",
     "output_type": "stream",
     "text": [
      "isi variabel angka adalah 15\n",
      "15 lebih besar dari 10\n"
     ]
    }
   ],
   "source": [
    "#if-else\n",
    "angka = 15\n",
    "print(f\"isi variabel angka adalah {angka}\")\n",
    "if angka < 10:\n",
    "    print(f\"{angka} lebih kecil dari 10\")\n",
    "else:\n",
    "    print(f\"{angka} lebih besar dari 10\")\n",
    "    "
   ]
  },
  {
   "cell_type": "code",
   "execution_count": 10,
   "metadata": {},
   "outputs": [
    {
     "name": "stdout",
     "output_type": "stream",
     "text": [
      "{angka} merupakan bilangan ganjil\n"
     ]
    }
   ],
   "source": [
    "#Latihan \n",
    "#buat sebuah logic untuk menentukan bilangan termasuk ganjil atau genap\n",
    "\n",
    "angka = 15\n",
    "if angka % 2 == 0:\n",
    "    print(f\"{angka} merupakan bilangan genap\")\n",
    "else:\n",
    "    print(\"{angka} merupakan bilangan ganjil\")"
   ]
  },
  {
   "cell_type": "code",
   "execution_count": 1,
   "metadata": {},
   "outputs": [
    {
     "name": "stdout",
     "output_type": "stream",
     "text": [
      "isi varibel angka adalah 1\n",
      "1 lebih kecil dari 10\n"
     ]
    }
   ],
   "source": [
    "angka = 1\n",
    "print(f\"isi varibel angka adalah {angka}\")\n",
    "if angka == 10:\n",
    "    print(f\"{angka} sama dengan 10\")\n",
    "elif angka <10:\n",
    "    print(f\"{angka} lebih kecil dari 10\")\n",
    "else:\n",
    "    print(f\"{angka} lebih besardari 10\")"
   ]
  },
  {
   "cell_type": "code",
   "execution_count": 4,
   "metadata": {},
   "outputs": [
    {
     "name": "stdout",
     "output_type": "stream",
     "text": [
      "Mampir ke toko buah, cari jeruk\n",
      "tidak ada jeruk\n",
      "beli mangga\n"
     ]
    }
   ],
   "source": [
    "#studi kasus\n",
    "#nested if\n",
    "buahbuahan = [\"pepaya\", \"mangga\", \"pisang\", \"jambu\", \"kelapa\"]\n",
    "if len(buahbuahan) > 3:\n",
    "    print(\"Mampir ke toko buah, cari jeruk\")\n",
    "    if 'jeruk' in buahbuahan:\n",
    "        print(\"beli jeruk\")\n",
    "    else:\n",
    "        print(\"tidak ada jeruk\")\n",
    "        if 'mangga' in buahbuahan:\n",
    "            print(\"beli mangga\")\n",
    "else:\n",
    "    print(\"skip, buah-buahan yang dijual kurang variatif\")\n"
   ]
  },
  {
   "cell_type": "code",
   "execution_count": 7,
   "metadata": {},
   "outputs": [
    {
     "name": "stdout",
     "output_type": "stream",
     "text": [
      "nilai C\n"
     ]
    }
   ],
   "source": [
    "#dosen \n",
    "#A : 85 - 100\n",
    "#B : 65 - 85\n",
    "#C : 50 - 65\n",
    "#D : 25 - 50\n",
    "#E : 0 - 25\n",
    "\n",
    "#cara 1\n",
    "nilai = input(\"masukkan nilai: \")\n",
    "nilai = int(nilai)\n",
    "\n",
    "if nilai > 100 or nilai < 0:\n",
    "    print(\"tolong masukkan nilai yang tepat\")\n",
    "elif nilai >=85 :\n",
    "    print(\"nilai A\")\n",
    "elif nilai >= 65 and nilai <=84 :\n",
    "    print(\"nilai B\")\n",
    "elif nilai >= 50 and nilai < 65 :\n",
    "    print(\"nilai C\")\n",
    "elif nilai >=25 and nilai < 50:\n",
    "    print(\"nilai D\")\n",
    "else: \n",
    "    print(\"nilai E\")\n"
   ]
  },
  {
   "cell_type": "code",
   "execution_count": 8,
   "metadata": {},
   "outputs": [
    {
     "name": "stdout",
     "output_type": "stream",
     "text": [
      "sepertinya ada kesalahan\n"
     ]
    }
   ],
   "source": [
    "#cara 2 \n",
    "nilai = input(\"masukkan nilai: \")\n",
    "nilai = int(nilai)\n",
    "\n",
    "if nilai in range(85,101):\n",
    "    print(\"nilai A\")\n",
    "elif nilai in range(65,85) :\n",
    "    print(\"nilai B\")\n",
    "elif nilai in range(50,65) :\n",
    "    print(\"nilai C\")\n",
    "elif nilai in range(25,50) :\n",
    "    print(\"nilai D\")\n",
    "elif nilai in range(0,25):\n",
    "    print(\"nilai E\")\n",
    "else: \n",
    "    print(\"sepertinya ada kesalahan\")\n"
   ]
  }
 ],
 "metadata": {
  "interpreter": {
   "hash": "89a5e99bca534775d831a361c82d740daac87034074a14017314d0e468cf7861"
  },
  "kernelspec": {
   "display_name": "Python 3.9.7 64-bit ('base': conda)",
   "language": "python",
   "name": "python3"
  },
  "language_info": {
   "codemirror_mode": {
    "name": "ipython",
    "version": 3
   },
   "file_extension": ".py",
   "mimetype": "text/x-python",
   "name": "python",
   "nbconvert_exporter": "python",
   "pygments_lexer": "ipython3",
   "version": "3.9.7"
  },
  "orig_nbformat": 4
 },
 "nbformat": 4,
 "nbformat_minor": 2
}
