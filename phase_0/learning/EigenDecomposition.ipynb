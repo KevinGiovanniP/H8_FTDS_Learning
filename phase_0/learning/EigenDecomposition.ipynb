{
  "nbformat": 4,
  "nbformat_minor": 0,
  "metadata": {
    "colab": {
      "name": "EigenDecomposition.ipynb",
      "provenance": []
    },
    "kernelspec": {
      "name": "python3",
      "display_name": "Python 3"
    },
    "language_info": {
      "name": "python"
    }
  },
  "cells": [
    {
      "cell_type": "markdown",
      "source": [
        "**Objective**\n",
        "\n",
        "* Basic understanding of eigen vector and value\n",
        "* Able to finding eigen vector and value using Python\n",
        "* Able to reconstruct a matrix using Python\n"
      ],
      "metadata": {
        "id": "NVR6xh5iwNhJ"
      }
    },
    {
      "cell_type": "code",
      "execution_count": 1,
      "metadata": {
        "colab": {
          "base_uri": "https://localhost:8080/"
        },
        "id": "9uuMpUz7vDaX",
        "outputId": "d9eceacb-ae7a-4926-e615-35a14b79edf7"
      },
      "outputs": [
        {
          "output_type": "execute_result",
          "data": {
            "text/plain": [
              "array([[1, 2],\n",
              "       [2, 4]])"
            ]
          },
          "metadata": {},
          "execution_count": 1
        }
      ],
      "source": [
        "import numpy as np\n",
        "from numpy.linalg import eig\n",
        "\n",
        "\n",
        "A = np.array([[1,2],[2,4]])\n",
        "A"
      ]
    },
    {
      "cell_type": "markdown",
      "source": [
        "## mencari eigen vektor dan eigen value"
      ],
      "metadata": {
        "id": "iZpsgE0UJvaB"
      }
    },
    {
      "cell_type": "code",
      "source": [
        "eigval, eigvec =eig(A)"
      ],
      "metadata": {
        "id": "AfTpKAqs_YEK"
      },
      "execution_count": 2,
      "outputs": []
    },
    {
      "cell_type": "code",
      "source": [
        "eigval"
      ],
      "metadata": {
        "colab": {
          "base_uri": "https://localhost:8080/"
        },
        "id": "XaRsIEG4_2kP",
        "outputId": "1418c08c-1d23-49c9-82af-58f1e16aec84"
      },
      "execution_count": 3,
      "outputs": [
        {
          "output_type": "execute_result",
          "data": {
            "text/plain": [
              "array([0., 5.])"
            ]
          },
          "metadata": {},
          "execution_count": 3
        }
      ]
    },
    {
      "cell_type": "code",
      "source": [
        "eigvec"
      ],
      "metadata": {
        "colab": {
          "base_uri": "https://localhost:8080/"
        },
        "id": "qjG04VuR_36P",
        "outputId": "f9e654a9-8d3c-4a15-9f9a-eed6f3627151"
      },
      "execution_count": 4,
      "outputs": [
        {
          "output_type": "execute_result",
          "data": {
            "text/plain": [
              "array([[-0.89442719, -0.4472136 ],\n",
              "       [ 0.4472136 , -0.89442719]])"
            ]
          },
          "metadata": {},
          "execution_count": 4
        }
      ]
    },
    {
      "cell_type": "markdown",
      "source": [
        "## mencari akar"
      ],
      "metadata": {
        "id": "H_jSISkYJ0xW"
      }
    },
    {
      "cell_type": "code",
      "source": [
        "np.sqrt(125)"
      ],
      "metadata": {
        "colab": {
          "base_uri": "https://localhost:8080/"
        },
        "id": "-iBB47cN_5In",
        "outputId": "a67cf495-be92-4cab-e86c-6a0e8006dadc"
      },
      "execution_count": 5,
      "outputs": [
        {
          "output_type": "execute_result",
          "data": {
            "text/plain": [
              "11.180339887498949"
            ]
          },
          "metadata": {},
          "execution_count": 5
        }
      ]
    },
    {
      "cell_type": "code",
      "source": [
        "#mencari vektor unit\n",
        "np.array([5,10]) / np.sqrt(125)"
      ],
      "metadata": {
        "colab": {
          "base_uri": "https://localhost:8080/"
        },
        "id": "hlKHANtd_76v",
        "outputId": "da188990-a58b-47bc-d556-379253502673"
      },
      "execution_count": 6,
      "outputs": [
        {
          "output_type": "execute_result",
          "data": {
            "text/plain": [
              "array([0.4472136 , 0.89442719])"
            ]
          },
          "metadata": {},
          "execution_count": 6
        }
      ]
    },
    {
      "cell_type": "code",
      "source": [
        "#mengubah matrix ke bentuk semula\n",
        "from numpy import diag\n",
        "from numpy.linalg import eig,inv\n",
        "\n",
        "B=eigvec.dot(diag(eigval)).dot(inv(eigvec))"
      ],
      "metadata": {
        "id": "hCDgFyrTAMDf"
      },
      "execution_count": 7,
      "outputs": []
    },
    {
      "cell_type": "code",
      "source": [
        "B"
      ],
      "metadata": {
        "colab": {
          "base_uri": "https://localhost:8080/"
        },
        "id": "gN-UAmTLWfqj",
        "outputId": "b9a9d828-6ee8-4d55-ad5f-0bc6a0fbccaf"
      },
      "execution_count": 8,
      "outputs": [
        {
          "output_type": "execute_result",
          "data": {
            "text/plain": [
              "array([[1., 2.],\n",
              "       [2., 4.]])"
            ]
          },
          "metadata": {},
          "execution_count": 8
        }
      ]
    }
  ]
}