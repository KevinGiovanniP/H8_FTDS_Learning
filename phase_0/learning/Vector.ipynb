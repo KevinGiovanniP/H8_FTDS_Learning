{
  "nbformat": 4,
  "nbformat_minor": 0,
  "metadata": {
    "colab": {
      "name": "Vector.ipynb",
      "provenance": [],
      "collapsed_sections": []
    },
    "kernelspec": {
      "name": "python3",
      "display_name": "Python 3"
    },
    "language_info": {
      "name": "python"
    }
  },
  "cells": [
    {
      "cell_type": "markdown",
      "source": [
        "## Membuat Vector"
      ],
      "metadata": {
        "id": "dVgB32SPDzCg"
      }
    },
    {
      "cell_type": "code",
      "execution_count": 1,
      "metadata": {
        "colab": {
          "base_uri": "https://localhost:8080/"
        },
        "id": "C5oFR1WkqCuG",
        "outputId": "5dc2c919-dac6-4e85-e548-bb6808912e6d"
      },
      "outputs": [
        {
          "output_type": "execute_result",
          "data": {
            "text/plain": [
              "[1, 2, 3, 4, 5, 6, 7, 8, 9, 10]"
            ]
          },
          "metadata": {},
          "execution_count": 1
        }
      ],
      "source": [
        "#membuat vektor \n",
        "a = [1,2,3,4,5]\n",
        "b = [6,7,8,9,10]\n",
        "\n",
        "a+b"
      ]
    },
    {
      "cell_type": "markdown",
      "source": [
        "vektor dapat di definisikan dalam python dengan cara menggunakan list yang diubah menjadi array menggunakan library numpy"
      ],
      "metadata": {
        "id": "lIPyLaXbD5zI"
      }
    },
    {
      "cell_type": "code",
      "source": [
        "import numpy as np \n",
        "\n",
        "vect_a = np.array(a)\n",
        "vect_b = np.array(b)"
      ],
      "metadata": {
        "id": "ZWHbER8SqNcr"
      },
      "execution_count": 2,
      "outputs": []
    },
    {
      "cell_type": "code",
      "source": [
        "d = [6, 8]\n",
        "vec_d = np.array(d)"
      ],
      "metadata": {
        "id": "bS7fs3OiqXOB"
      },
      "execution_count": 3,
      "outputs": []
    },
    {
      "cell_type": "markdown",
      "source": [
        "##Euclidean distance (norm)"
      ],
      "metadata": {
        "id": "82B02Lz_EEcJ"
      }
    },
    {
      "cell_type": "code",
      "source": [
        "np.linalg.norm(vec_d, 2)"
      ],
      "metadata": {
        "colab": {
          "base_uri": "https://localhost:8080/"
        },
        "id": "2tUAkoPisrNq",
        "outputId": "744ce320-0700-455a-a8ac-b6388d70704c"
      },
      "execution_count": 4,
      "outputs": [
        {
          "output_type": "execute_result",
          "data": {
            "text/plain": [
              "10.0"
            ]
          },
          "metadata": {},
          "execution_count": 4
        }
      ]
    },
    {
      "cell_type": "code",
      "source": [
        "np.linalg.norm(vec_d, 1)"
      ],
      "metadata": {
        "colab": {
          "base_uri": "https://localhost:8080/"
        },
        "id": "yblllqmesukf",
        "outputId": "7f333244-2886-4c0d-b383-d627b1d3d119"
      },
      "execution_count": 5,
      "outputs": [
        {
          "output_type": "execute_result",
          "data": {
            "text/plain": [
              "14.0"
            ]
          },
          "metadata": {},
          "execution_count": 5
        }
      ]
    },
    {
      "cell_type": "markdown",
      "source": [
        "## Pengurangan vektor dengan skalar"
      ],
      "metadata": {
        "id": "2j85j-_LEVRy"
      }
    },
    {
      "cell_type": "code",
      "source": [
        "vec_d - 10"
      ],
      "metadata": {
        "colab": {
          "base_uri": "https://localhost:8080/"
        },
        "id": "OncspcT5tEBX",
        "outputId": "a9d2fbe5-ae21-4105-97ed-110f97c8db48"
      },
      "execution_count": 6,
      "outputs": [
        {
          "output_type": "execute_result",
          "data": {
            "text/plain": [
              "array([-4, -2])"
            ]
          },
          "metadata": {},
          "execution_count": 6
        }
      ]
    },
    {
      "cell_type": "markdown",
      "source": [
        "## Pengurangan vektor dengan vektor"
      ],
      "metadata": {
        "id": "v6kZl9VKEZu8"
      }
    },
    {
      "cell_type": "code",
      "source": [
        "vect_a = np.array([2,4,6])\n",
        "vect_b = np.array([2,3,4])\n",
        "\n",
        "vect_a - vect_b"
      ],
      "metadata": {
        "colab": {
          "base_uri": "https://localhost:8080/"
        },
        "id": "ObkMPAidv9fo",
        "outputId": "66847794-79b7-4ea3-a65f-623a0ec15643"
      },
      "execution_count": 22,
      "outputs": [
        {
          "output_type": "execute_result",
          "data": {
            "text/plain": [
              "array([0, 1, 2])"
            ]
          },
          "metadata": {},
          "execution_count": 22
        }
      ]
    },
    {
      "cell_type": "markdown",
      "source": [
        "## Perkalian vektor dengan skalar"
      ],
      "metadata": {
        "id": "3qGFFPiGEeRk"
      }
    },
    {
      "cell_type": "code",
      "source": [
        "vect_a * 0.5"
      ],
      "metadata": {
        "colab": {
          "base_uri": "https://localhost:8080/"
        },
        "id": "q2TVMIGCwLR2",
        "outputId": "7b61885a-daba-49e3-d4f0-ee1ce1f41815"
      },
      "execution_count": 8,
      "outputs": [
        {
          "output_type": "execute_result",
          "data": {
            "text/plain": [
              "array([0.5, 1. , 1.5])"
            ]
          },
          "metadata": {},
          "execution_count": 8
        }
      ]
    },
    {
      "cell_type": "markdown",
      "source": [
        "## Perkalian vektor dengan vektor"
      ],
      "metadata": {
        "id": "FXTZkJt5EimK"
      }
    },
    {
      "cell_type": "code",
      "source": [
        "vect_a * vect_b \n"
      ],
      "metadata": {
        "colab": {
          "base_uri": "https://localhost:8080/"
        },
        "id": "DBHorxr5xDmW",
        "outputId": "ac80a233-3839-4975-c809-21c7255104aa"
      },
      "execution_count": 9,
      "outputs": [
        {
          "output_type": "execute_result",
          "data": {
            "text/plain": [
              "array([ 2,  6, 12])"
            ]
          },
          "metadata": {},
          "execution_count": 9
        }
      ]
    },
    {
      "cell_type": "markdown",
      "source": [
        "## Dot Product vektor, menahasilkan satu nilai"
      ],
      "metadata": {
        "id": "aUiDryKMEtx7"
      }
    },
    {
      "cell_type": "code",
      "source": [
        "np.dot(vect_a,vect_b)"
      ],
      "metadata": {
        "colab": {
          "base_uri": "https://localhost:8080/"
        },
        "id": "aTflZF0GyurR",
        "outputId": "1f341daa-23a6-4f09-9bfc-3a738af3f808"
      },
      "execution_count": 24,
      "outputs": [
        {
          "output_type": "execute_result",
          "data": {
            "text/plain": [
              "40"
            ]
          },
          "metadata": {},
          "execution_count": 24
        }
      ]
    },
    {
      "cell_type": "code",
      "source": [
        "#save hasil do product\n",
        "result_dot_product = vect_a@vect_b\n",
        "result_dot_product"
      ],
      "metadata": {
        "colab": {
          "base_uri": "https://localhost:8080/"
        },
        "id": "QP-m7vp20NPe",
        "outputId": "89135a26-0af2-4d0c-cae2-ed3fc813d861"
      },
      "execution_count": 25,
      "outputs": [
        {
          "output_type": "execute_result",
          "data": {
            "text/plain": [
              "40"
            ]
          },
          "metadata": {},
          "execution_count": 25
        }
      ]
    },
    {
      "cell_type": "code",
      "source": [
        "print(vect_a)\n",
        "print(vect_b)"
      ],
      "metadata": {
        "colab": {
          "base_uri": "https://localhost:8080/"
        },
        "id": "BwxhMU3z0oXG",
        "outputId": "5caaf5bf-c0d0-44e6-89ab-c6ac5ebdc53f"
      },
      "execution_count": 23,
      "outputs": [
        {
          "output_type": "stream",
          "name": "stdout",
          "text": [
            "[2 4 6]\n",
            "[2 3 4]\n"
          ]
        }
      ]
    },
    {
      "cell_type": "code",
      "source": [
        "#vect_a = np.array([5,0])\n",
        "#vect_b = np.array([8,0])"
      ],
      "metadata": {
        "id": "UDLWquci1pEo"
      },
      "execution_count": 21,
      "outputs": []
    },
    {
      "cell_type": "markdown",
      "source": [
        "## Mencari apakah vektor mirip apa tidak menggunakan theta"
      ],
      "metadata": {
        "id": "dgzVn2CwFyhA"
      }
    },
    {
      "cell_type": "code",
      "source": [
        "cos_theta = result_dot_product / (np.linalg.norm(vect_a) * np.linalg.norm(vect_b))\n",
        "cos_theta"
      ],
      "metadata": {
        "colab": {
          "base_uri": "https://localhost:8080/"
        },
        "id": "7C16I5ct0sEP",
        "outputId": "22a346ab-8716-4960-d3fd-41a089cf765b"
      },
      "execution_count": 26,
      "outputs": [
        {
          "output_type": "execute_result",
          "data": {
            "text/plain": [
              "0.9925833339709303"
            ]
          },
          "metadata": {},
          "execution_count": 26
        }
      ]
    }
  ]
}