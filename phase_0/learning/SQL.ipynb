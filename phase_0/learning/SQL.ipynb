{
  "nbformat": 4,
  "nbformat_minor": 0,
  "metadata": {
    "colab": {
      "name": "[ANSWERS] P0W2D4AM & P0W2D4PM - SQL.ipynb",
      "provenance": [],
      "collapsed_sections": [
        "d9DiVSJYbQcU",
        "NCUBQJ0qZl6D"
      ],
      "toc_visible": true
    },
    "kernelspec": {
      "name": "python3",
      "display_name": "Python 3"
    },
    "language_info": {
      "name": "python"
    }
  },
  "cells": [
    {
      "cell_type": "markdown",
      "metadata": {
        "id": "8PD-hVeKIz3D"
      },
      "source": [
        "# A. Data Definition Language (DDL)"
      ]
    },
    {
      "cell_type": "markdown",
      "metadata": {
        "id": "Lf39Iu7KJTk1"
      },
      "source": [
        "## A.1. Create Table"
      ]
    },
    {
      "cell_type": "markdown",
      "metadata": {
        "id": "qdoOv6CKJtRQ"
      },
      "source": [
        "### Create table `teachers`"
      ]
    },
    {
      "cell_type": "code",
      "metadata": {
        "id": "uHohn61BH4b3"
      },
      "source": [
        "CREATE TABLE teachers (\n",
        "    id INT NOT NULL PRIMARY KEY AUTO_INCREMENT,\n",
        "    first_name varchar(25),\n",
        "    last_name varchar(50),\n",
        "    school varchar(50),\n",
        "    hire_date date,\n",
        "    salary numeric\n",
        "    );"
      ],
      "execution_count": null,
      "outputs": []
    },
    {
      "cell_type": "markdown",
      "metadata": {
        "id": "1UsH_oY5JXlT"
      },
      "source": [
        "## A.2. Delete Table"
      ]
    },
    {
      "cell_type": "markdown",
      "metadata": {
        "id": "WXsqs-XjKFNj"
      },
      "source": [
        "### Delete table `teachers` (table and its data)"
      ]
    },
    {
      "cell_type": "code",
      "metadata": {
        "id": "o2e1TWgVJXK6"
      },
      "source": [
        "DROP TABLE teachers;"
      ],
      "execution_count": null,
      "outputs": []
    },
    {
      "cell_type": "markdown",
      "metadata": {
        "id": "-jzBNRGkKYEe"
      },
      "source": [
        "---\n",
        "### Delete data on table `teachers` (only its data)"
      ]
    },
    {
      "cell_type": "code",
      "metadata": {
        "id": "4CWuaSdWKb5i"
      },
      "source": [
        "TRUNCATE TABLE teachers;"
      ],
      "execution_count": null,
      "outputs": []
    },
    {
      "cell_type": "markdown",
      "metadata": {
        "id": "ISJg3PdBK4GI"
      },
      "source": [
        "## A.3. Modify Table (ALTER)\n",
        "\n",
        "The `ALTER TABLE` statement is used to :\n",
        "* add, delete, or modify columns in an existing table. \n",
        "* add and drop various constraints on an existing table."
      ]
    },
    {
      "cell_type": "markdown",
      "metadata": {
        "id": "ZNaWSrfQLJmv"
      },
      "source": [
        "### Add a new column on `teachers`"
      ]
    },
    {
      "cell_type": "code",
      "metadata": {
        "id": "kQPPAhRlMCwk"
      },
      "source": [
        "ALTER TABLE teachers\n",
        "ADD age INT;"
      ],
      "execution_count": null,
      "outputs": []
    },
    {
      "cell_type": "markdown",
      "metadata": {
        "id": "YglFeWm3MCUD"
      },
      "source": [
        "---\n",
        "### Delete a column on `teachers`"
      ]
    },
    {
      "cell_type": "code",
      "metadata": {
        "id": "vYeBYDc3MhQO"
      },
      "source": [
        "ALTER TABLE teachers\n",
        "DROP COLUMN age;"
      ],
      "execution_count": null,
      "outputs": []
    },
    {
      "cell_type": "markdown",
      "metadata": {
        "id": "C5dbseJzMsX1"
      },
      "source": [
        "---\n",
        "### Change data type of a column"
      ]
    },
    {
      "cell_type": "code",
      "metadata": {
        "id": "pyxjVEtwMr2l"
      },
      "source": [
        "ALTER TABLE teachers\n",
        "MODIFY COLUMN salary INT;"
      ],
      "execution_count": null,
      "outputs": []
    },
    {
      "cell_type": "markdown",
      "metadata": {
        "id": "3m3EqiIcPjh4"
      },
      "source": [
        "---\n",
        "### Rename table name"
      ]
    },
    {
      "cell_type": "code",
      "metadata": {
        "id": "9XgHSZVxPqK0"
      },
      "source": [
        "ALTER TABLE teachers\n",
        "RENAME TO guru;"
      ],
      "execution_count": null,
      "outputs": []
    },
    {
      "cell_type": "markdown",
      "metadata": {
        "id": "78uaXctxPxTo"
      },
      "source": [
        "---\n",
        "### Rename column name"
      ]
    },
    {
      "cell_type": "code",
      "metadata": {
        "id": "p14EnOrSP0Hk"
      },
      "source": [
        "ALTER TABLE teachers\n",
        "CHANGE COLUMN first_name nama_depan varchar(50);"
      ],
      "execution_count": null,
      "outputs": []
    },
    {
      "cell_type": "markdown",
      "metadata": {
        "id": "VoVs9ZkbQFVq"
      },
      "source": [
        "# B. Data Manipulation Language (DML)"
      ]
    },
    {
      "cell_type": "markdown",
      "metadata": {
        "id": "fHE61HjEQPbn"
      },
      "source": [
        "## B.1. Insert"
      ]
    },
    {
      "cell_type": "markdown",
      "metadata": {
        "id": "Y8LnKNpdnka4"
      },
      "source": [
        "With param `id`"
      ]
    },
    {
      "cell_type": "code",
      "metadata": {
        "id": "xlB99H0KQNef"
      },
      "source": [
        "INSERT INTO teachers (id, first_name, last_name, school, hire_date, salary)\n",
        "    VALUES (1,'Janet', 'Smith', 'MIT', '2011-10-30', 36200),\n",
        "           (2,'Lee', 'Reynolds', 'MIT', '1993-05-22', 65000),\n",
        "           (3,'Samuel', 'Cole', 'Cambridge University', '2005-08-01', 43500),\n",
        "           (4,'Samantha', 'Bush', 'Cambridge University', '2011-10-30', 36200),\n",
        "           (5,'Betty', 'Diaz', 'Cambridge University', '2005-08-30', 43500),\n",
        "           (6,'Kathleen', 'Roush', 'MIT', '2010-10-22', 38500),\n",
        "           (7,'James', 'Diaz', 'Harvard University', '2003-07-18', 61000),\n",
        "           (8,'Zack', 'Smith', 'Harvard University', '2000-12-29', 55500),\n",
        "           (9,'Luis', 'Gonzales', 'Standford University', '2002-12-01', 50000),\n",
        "           (10,'Frank', 'Abbers', 'Standford University', '1999-01-30', 66000);"
      ],
      "execution_count": null,
      "outputs": []
    },
    {
      "cell_type": "markdown",
      "metadata": {
        "id": "aTA-fdjFnm9r"
      },
      "source": [
        "Without param `id`"
      ]
    },
    {
      "cell_type": "code",
      "metadata": {
        "id": "g6MJM0OammaY"
      },
      "source": [
        "INSERT INTO teachers (first_name, last_name, school, hire_date, salary)\n",
        "    VALUES ('Samuel', 'Abbers', 'Standford University', '2006-01-30', 32000),\n",
        "           ('Jessica', 'Abbers', 'Standford University', '2005-01-30', 33000),\n",
        "           ('Tom', 'Massi', 'Harvard University', '1999-09-09', 39500),\n",
        "           ('Esteban', 'Brown', 'MIT', '2007-01-30', 36000),\n",
        "           ('Carlos', 'Alonso', 'Standford University', '2001-01-30', 44000);"
      ],
      "execution_count": null,
      "outputs": []
    },
    {
      "cell_type": "markdown",
      "metadata": {
        "id": "v07rzJKgQdm-"
      },
      "source": [
        "---\n",
        "## B.2. Update"
      ]
    },
    {
      "cell_type": "code",
      "metadata": {
        "id": "c3YzIZSXQkHL"
      },
      "source": [
        "UPDATE teachers\n",
        "SET salary=56000\n",
        "WHERE teachers.firstname='Samuel';"
      ],
      "execution_count": null,
      "outputs": []
    },
    {
      "cell_type": "markdown",
      "metadata": {
        "id": "ToRl35TBQwvO"
      },
      "source": [
        "---\n",
        "## B.3. Delete"
      ]
    },
    {
      "cell_type": "code",
      "metadata": {
        "id": "lUVhVzbZQvtP"
      },
      "source": [
        "DELETE FROM teachers\n",
        "WHERE id=6;"
      ],
      "execution_count": null,
      "outputs": []
    },
    {
      "cell_type": "markdown",
      "metadata": {
        "id": "Sn4zml0BRH1m"
      },
      "source": [
        "# C. Data Query Language (DQL)"
      ]
    },
    {
      "cell_type": "markdown",
      "metadata": {
        "id": "7R0RvajNSGEi"
      },
      "source": [
        "## C.1. Select all data\n",
        "\n",
        "Case : `Display all data!`"
      ]
    },
    {
      "cell_type": "code",
      "metadata": {
        "id": "SXMsswPbSFXa"
      },
      "source": [
        "SELECT * \n",
        "FROM teachers"
      ],
      "execution_count": null,
      "outputs": []
    },
    {
      "cell_type": "markdown",
      "metadata": {
        "id": "AUAa18z3TYdw"
      },
      "source": [
        "---\n",
        "## C.2. Select particular column\n",
        "\n",
        "Case : `Display only id and first name !`"
      ]
    },
    {
      "cell_type": "code",
      "metadata": {
        "id": "JwconIC1TX4i"
      },
      "source": [
        "SELECT id, first_name\n",
        "FROM teachers"
      ],
      "execution_count": null,
      "outputs": []
    },
    {
      "cell_type": "markdown",
      "metadata": {
        "id": "NqSZffT5URVA"
      },
      "source": [
        "---\n",
        "## C.3. Sort Data\n",
        "\n",
        "Case : `Display data based on first name from Z-A`"
      ]
    },
    {
      "cell_type": "code",
      "metadata": {
        "id": "qghS9xl4RKRc"
      },
      "source": [
        "SELECT * \n",
        "FROM teachers\n",
        "ORDER BY first_name DESC;"
      ],
      "execution_count": null,
      "outputs": []
    },
    {
      "cell_type": "markdown",
      "metadata": {
        "id": "ETEs9tu6UlYY"
      },
      "source": [
        "---\n",
        "## C.4. Group By\n",
        "\n",
        "Case : `How many teachers in each school ?`"
      ]
    },
    {
      "cell_type": "code",
      "metadata": {
        "id": "D2ghioS3Uk6e"
      },
      "source": [
        "SELECT count(id), school\n",
        "FROM teachers\n",
        "GROUP BY school;"
      ],
      "execution_count": null,
      "outputs": []
    },
    {
      "cell_type": "markdown",
      "metadata": {
        "id": "vmTHCF-tXxWE"
      },
      "source": [
        "---\n",
        "## C.5. IN\n",
        "\n",
        "Case : `Display all data where first name is Samantha or Samuel`"
      ]
    },
    {
      "cell_type": "code",
      "metadata": {
        "id": "Qi_OcX1TXwvO"
      },
      "source": [
        "SELECT *\n",
        "FROM teachers\n",
        "WHERE first_name IN ('Samantha', 'Samuel')"
      ],
      "execution_count": null,
      "outputs": []
    },
    {
      "cell_type": "markdown",
      "metadata": {
        "id": "xOOjnH7pWbCO"
      },
      "source": [
        "---\n",
        "## C.5. AND/OR \n",
        "\n",
        "Case 1 : `Who are teachers from MIT that have salary more than 40000`"
      ]
    },
    {
      "cell_type": "code",
      "metadata": {
        "id": "F8LL19UcWtth"
      },
      "source": [
        "SELECT * \n",
        "FROM teachers\n",
        "WHERE school='MIT' AND salary>40000;"
      ],
      "execution_count": null,
      "outputs": []
    },
    {
      "cell_type": "markdown",
      "metadata": {
        "id": "okv8FmaEW6tz"
      },
      "source": [
        "Case 2 : `Display all data where last name is Cole or Abbers`"
      ]
    },
    {
      "cell_type": "code",
      "metadata": {
        "id": "nQHs7GFZW6BP"
      },
      "source": [
        "SELECT * \n",
        "FROM teachers\n",
        "WHERE last_name='Cole' OR last_name='Abbers';"
      ],
      "execution_count": null,
      "outputs": []
    },
    {
      "cell_type": "markdown",
      "metadata": {
        "id": "jEQ3-PLhY4Ko"
      },
      "source": [
        "# D. Cases"
      ]
    },
    {
      "cell_type": "markdown",
      "metadata": {
        "id": "faZSOcyAY90X"
      },
      "source": [
        "Cases : \n",
        "\n",
        "* Case 1 : `What is the average salary of the person with the first three letters of the first name is sam ?`\n",
        "\n",
        "* Case 2 : `Who is the teacher with the highest salary for each university ?`\n",
        "\n",
        "\n",
        "* Case 3 : `Who is the teacher with the highest salary from Standford University ?`"
      ]
    },
    {
      "cell_type": "markdown",
      "metadata": {
        "id": "d9DiVSJYbQcU"
      },
      "source": [
        "---\n",
        "## D.1. Case 1\n",
        "\n",
        "What is the average salary of the person with the first three letters of the first name is Sam ?"
      ]
    },
    {
      "cell_type": "code",
      "metadata": {
        "id": "ydrir4lMbaJ5"
      },
      "source": [
        "SELECT AVG(salary)\n",
        "FROM teachers\n",
        "WHERE first_name LIKE 'Sam%';"
      ],
      "execution_count": null,
      "outputs": []
    },
    {
      "cell_type": "markdown",
      "metadata": {
        "id": "B5fiXeUUok_v"
      },
      "source": [
        "## D.2. Case 2 \n",
        "\n",
        "`Who is the teacher with the highest salary for each university ?`"
      ]
    },
    {
      "cell_type": "code",
      "metadata": {
        "id": "kpoWAxnAo5-4"
      },
      "source": [
        "SELECT id, first_name, last_name, max(salary), school\n",
        "FROM teachers\n",
        "GROUP BY school;"
      ],
      "execution_count": null,
      "outputs": []
    },
    {
      "cell_type": "markdown",
      "metadata": {
        "id": "NCUBQJ0qZl6D"
      },
      "source": [
        "## D.3. Case 3 (Subquery)\n",
        "\n",
        "`Who is the teacher with the highest salary from Standford University ?`"
      ]
    },
    {
      "cell_type": "code",
      "metadata": {
        "id": "7iG8JostY8-c"
      },
      "source": [
        "-- Display person who has max salary\n",
        "SELECT *\n",
        "FROM teachers\n",
        "WHERE salary=\n",
        "  \n",
        "  -- Get max salary\n",
        "  (\n",
        "  SELECT MAX(salary)\n",
        "  FROM teachers\n",
        "  WHERE school='Standford University'\n",
        "  GROUP BY school);"
      ],
      "execution_count": null,
      "outputs": []
    },
    {
      "cell_type": "markdown",
      "metadata": {
        "id": "V5hxHbnYbZhy"
      },
      "source": [
        "# E. JOIN"
      ]
    },
    {
      "cell_type": "markdown",
      "metadata": {
        "id": "RmsPSyX2r6Cp"
      },
      "source": [
        "## E.1. Add new table"
      ]
    },
    {
      "cell_type": "code",
      "metadata": {
        "id": "YilddJDUr3XS"
      },
      "source": [
        "CREATE TABLE courses (\n",
        "    id INT NOT NULL PRIMARY KEY AUTO_INCREMENT,\n",
        "    name varchar(20),\n",
        "    teachers_id INT,\n",
        "    total_students INT\n",
        "    );"
      ],
      "execution_count": null,
      "outputs": []
    },
    {
      "cell_type": "markdown",
      "metadata": {
        "id": "MkJavGFksmle"
      },
      "source": [
        "## E.2. Insert Some Data"
      ]
    },
    {
      "cell_type": "code",
      "metadata": {
        "id": "YGKV6I4YtM97"
      },
      "source": [
        "INSERT INTO courses (name, teachers_id, total_students)\n",
        "    VALUES  ('Calculus', 2, 20),\n",
        "            ('Physics', 2, 10),\n",
        "            ('Calculus', 1, 30),\n",
        "            ('Computer Science', 1, 20),\n",
        "            ('Politic', 4, 15),\n",
        "            ('Algebra', 2, 10),\n",
        "            ('Algebra', 13, 30),\n",
        "            ('Computer Science', 10, 35),\n",
        "            ('Life Science', 11, 20),\n",
        "            ('Chemistry', 9, 22),\n",
        "            ('Chemistry', 8, 16),\n",
        "            ('Calculus', 5, 19),\n",
        "            ('Politic', 4, 17),\n",
        "            ('Biology', 6, 22),\n",
        "            ('Physics', 3, 29),\n",
        "            ('Biology', 8, 28),\n",
        "            ('Calculus', 12, 34),\n",
        "            ('Physics', 13, 34),\n",
        "            ('Biology', 14, 25),\n",
        "            ('Calculus', 15, 20);"
      ],
      "execution_count": null,
      "outputs": []
    },
    {
      "cell_type": "markdown",
      "metadata": {
        "id": "CoVhlHIOusbw"
      },
      "source": [
        "---\n",
        "## E.3. INNER JOIN\n",
        "\n",
        "Case : `Display all courses with teacher's identity`"
      ]
    },
    {
      "cell_type": "code",
      "metadata": {
        "id": "Yr70ZzJsvRAZ"
      },
      "source": [
        "SELECT *\n",
        "FROM courses\n",
        "JOIN teachers ON courses.teachers_id = teachers.id;"
      ],
      "execution_count": null,
      "outputs": []
    },
    {
      "cell_type": "markdown",
      "metadata": {
        "id": "XwdQROoGu7zc"
      },
      "source": [
        "---\n",
        "## E.4 Cases\n",
        "\n",
        "* Case 1 : `Display how many courses per universities`\n",
        "* Case 2 : `Display how many total_students per teachers`\n",
        "* Case 3 : `Display how many courses per teachers`"
      ]
    },
    {
      "cell_type": "markdown",
      "metadata": {
        "id": "gqh5mJsqv-cx"
      },
      "source": [
        "---\n",
        "Case 1 : `Display how many courses per universities`"
      ]
    },
    {
      "cell_type": "code",
      "metadata": {
        "id": "PD8LCsIBv4df"
      },
      "source": [
        "SELECT teachers.school, count(courses.id)\n",
        "FROM courses \n",
        "JOIN teachers on courses.teachers_id=teachers.id\n",
        "GROUP BY teachers.school"
      ],
      "execution_count": null,
      "outputs": []
    },
    {
      "cell_type": "markdown",
      "metadata": {
        "id": "5_NB-a9CxJfe"
      },
      "source": [
        "---\n",
        "Case 2 : `Display how many total_students per teachers`"
      ]
    },
    {
      "cell_type": "code",
      "metadata": {
        "id": "Fc8pkqg_xOk3"
      },
      "source": [
        "SELECT teachers.id, teachers.first_name, teachers.last_name, sum(courses.total_students)\n",
        "FROM courses \n",
        "JOIN teachers on courses.teachers_id=teachers.id\n",
        "GROUP BY teachers.id"
      ],
      "execution_count": null,
      "outputs": []
    },
    {
      "cell_type": "markdown",
      "metadata": {
        "id": "v-j-7NfEwtQh"
      },
      "source": [
        "---\n",
        "Case 3 : `Display how many courses per teachers`"
      ]
    },
    {
      "cell_type": "code",
      "metadata": {
        "id": "MtBXffUowyjQ"
      },
      "source": [
        "SELECT teachers.id, teachers.first_name, teachers.last_name, count(courses.id)\n",
        "FROM courses \n",
        "JOIN teachers on courses.teachers_id=teachers.id\n",
        "GROUP BY teachers.id"
      ],
      "execution_count": null,
      "outputs": []
    }
  ]
}