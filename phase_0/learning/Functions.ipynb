{
 "cells": [
  {
   "cell_type": "markdown",
   "metadata": {},
   "source": [
    "## Calling a Function"
   ]
  },
  {
   "cell_type": "code",
   "execution_count": 2,
   "metadata": {},
   "outputs": [],
   "source": [
    "def printme( str ):   \n",
    "    \"This prints a passed string into this function\"   \n",
    "    print(str)  \n",
    "    return"
   ]
  },
  {
   "cell_type": "code",
   "execution_count": 4,
   "metadata": {},
   "outputs": [
    {
     "name": "stdout",
     "output_type": "stream",
     "text": [
      "I'm first call to user defined function!\n",
      "Again second call to the same function\n"
     ]
    }
   ],
   "source": [
    "printme(\"I'm first call to user defined function!\")\n",
    "printme(\"Again second call to the same function\")\n"
   ]
  },
  {
   "cell_type": "markdown",
   "metadata": {},
   "source": [
    "## Pass by Reference vs Value\n"
   ]
  },
  {
   "cell_type": "code",
   "execution_count": null,
   "metadata": {},
   "outputs": [],
   "source": [
    "def changeme( mylist):\n",
    "    #This changes a passed list into this function\"\n",
    "    mylist.append([1,2,3,4])"
   ]
  },
  {
   "cell_type": "markdown",
   "metadata": {},
   "source": [
    "## Exercise Function\n"
   ]
  },
  {
   "cell_type": "code",
   "execution_count": 6,
   "metadata": {},
   "outputs": [
    {
     "name": "stdout",
     "output_type": "stream",
     "text": [
      "luas persegi panjang adalah : 600\n"
     ]
    }
   ],
   "source": [
    "def hitung_luas_persegi_panjang(panjang, lebar):\n",
    "    luas = panjang*lebar\n",
    "    print(\"luas persegi panjang adalah :\", luas)\n",
    "\n",
    "hitung_luas_persegi_panjang(20,30)"
   ]
  },
  {
   "cell_type": "markdown",
   "metadata": {},
   "source": [
    "### Required/Keyword Argument"
   ]
  },
  {
   "cell_type": "markdown",
   "metadata": {},
   "source": [
    "**NOMOR 1**\n",
    "\n",
    "Buatlah sebuah function untuk menampilkan tanda plus (`+`) sebanyak \n",
    "`n`.\n",
    "  * Input : `n` | Jumlah tanda plus (`+`) yang diinginkan | int\n",
    "  * Output : Jumlah tanda plus yang ditampilkan\n",
    "\n",
    "| Input | Output |\n",
    "| - | - |\n",
    "| n = 1 | + |\n",
    "| n = 3 | + <br /> + <br /> + |\n",
    "| n = 5 | + <br /> + <br /> + <br /> + <br /> + |\n",
    "| n = 0 | Tampilkan pesan `Input salah` |\n",
    "| n = -1 | Tampilkan pesan `Input salah` |"
   ]
  },
  {
   "cell_type": "code",
   "execution_count": 2,
   "metadata": {},
   "outputs": [
    {
     "name": "stdout",
     "output_type": "stream",
     "text": [
      "+\n",
      "+\n",
      "+\n",
      "+\n",
      "+\n"
     ]
    }
   ],
   "source": [
    "def cetak_plus(n):\n",
    "    if n <= 0 :\n",
    "        print(\"Input salah\")\n",
    "    else:\n",
    "        for index in range(0,n):\n",
    "            print('+')\n",
    "cetak_plus(5)"
   ]
  },
  {
   "cell_type": "markdown",
   "metadata": {},
   "source": [
    "**NOMOR 2**\n",
    "\n",
    "Buat sebuah function untuk mereturn hanya angka genap (positif/negatif) dari sekumpulan list yang berisi nilai-nilai (tidak termasuk 0).\n",
    "  * Input : `daftar_angka` : daftar angka-angka | list of int\n",
    "  * Output : daftar angka-angka genap | list of int\n",
    "\n",
    "| No | Input | Output |\n",
    "| - | - | - |\n",
    "| 1 | daftar_angka = [1, 2, 3, 4, 5, 6] | [2, 4, 6] |\n",
    "| 2 | daftar_angka = [0, 1, 3, 5, 7, 9] | [] |\n",
    "| 3 | daftar_angka = [-10, -9, -8, -7]  | [-10, -8] |\n"
   ]
  },
  {
   "cell_type": "code",
   "execution_count": 3,
   "metadata": {},
   "outputs": [
    {
     "name": "stdout",
     "output_type": "stream",
     "text": [
      "[-10, -8]\n"
     ]
    }
   ],
   "source": [
    "def cetak_genap(daftar_angka):\n",
    "    hasil = []\n",
    "    for angka in daftar_angka:\n",
    "        if angka !=0 and angka % 2 == 0:\n",
    "            ##if angka % 2 == 0:\n",
    "            hasil.append(angka)\n",
    "    return hasil\n",
    "\n",
    "#cetak_genap(daftar_angka=[-10,-9,-8])\n",
    "#cetak_genap(daftar_angka = [0,1,3,5,7,9])\n",
    "output = cetak_genap(daftar_angka= [-10, -9, -8, -7])\n",
    "print(output)\n",
    "\n",
    "\n"
   ]
  },
  {
   "cell_type": "markdown",
   "metadata": {},
   "source": [
    " **NOMOR 3**\n",
    "\n",
    "Buatlah sebuah function untuk menampilkan `nama` dan `negara`. Jika tidak ada value pada parameter `negara`, isi dengan `Indonesia`.\n",
    "  * Input : `nama` | str\n",
    "  * Input : `negara` | str\n",
    "\n",
    "| No | Input | Output |\n",
    "| - | - | - |\n",
    "| 1 | nama = Frank <br /> <br /> negara = USA| \"Halo Frank dari USA\" |\n",
    "| 2 | nama = Smith <br /> <br /> negara = Jerman| \"Halo Smith dari Jerman\" |\n",
    "| 3 | nama = Anton | \"Halo Anton dari Indonesia\" |\n",
    "| 4 | negara = Singapura | *--Program Error--* |"
   ]
  },
  {
   "cell_type": "code",
   "execution_count": 5,
   "metadata": {},
   "outputs": [
    {
     "name": "stdout",
     "output_type": "stream",
     "text": [
      "Program Error\n"
     ]
    }
   ],
   "source": [
    "def cetak_nama_dan_negara(nama, negara):\n",
    "    if negara == 'singapura':\n",
    "        print(\"Program Error\")\n",
    "    else:\n",
    "        print(f\"Halo {nama} dari {negara}\")\n",
    "\n",
    "cetak_nama_dan_negara('kevin', negara = 'singapura')\n"
   ]
  },
  {
   "cell_type": "markdown",
   "metadata": {},
   "source": [
    "**NOMOR 4**\n",
    "\n",
    "Buatlah sebuah function untuk me-return luas dari dua angka yang dimasukkan berdasarkan jenis bidangnya. \n",
    "  * Jika hanya 1 angka yang dimasukkan, maka diasumsikan angka tersebut akan digunakan untuk panjang-dan-lebar atau alas-dan-tinggi.\n",
    "  * Input : `mode` : jenis bidang (segitiga/persegi) | str\n",
    "    - `mode = segitiga`\n",
    "    - `mode = persegi`\n",
    "  * Input : `bilangan_1` : bilangan ke-1 | int\n",
    "  * Input : `bilangan_2` : bilangan ke-2 | int\n",
    "  * Jika tidak ada bilangan yang dimasukkan, maka tampilkan pesan **\"Input harus ada angka\"**.\n",
    "  * Jika bilangan_1 tidak dimasukkan dan hanya ada bilangan_2, maka tampilkan pesan **\"Input harus ada bilangan_1\"**.\n",
    "\n",
    "  > *Rumus luas persegi = bilangan_1 (panjang) * bilangan_2 (lebar)*\n",
    "  > \n",
    "  > *Rumus luas segitiga = bilangan_1 (alas) * bilangan_2 (tinggi) / 2*\n",
    "\n",
    "---\n",
    "Asumsi : \n",
    "* Angka yang dimasukkan maksimal 2 angka.\n",
    "* Angka yang dimasukkan hanyalah angka yang lebih besar dari 0.\n",
    "\n",
    "*Hint : Gunakan konsep bahwa sisi bidang tidak mungkin bernilai 0.*\n",
    "\n",
    "\n",
    "| No | Input | Output |\n",
    "| - | - | - |\n",
    "| 1 | mode = persegi, <br /> <br /> bilangan_1 = 10, <br /> <br /> bilangan_2 = 20 | 200 |\n",
    "| 2 | mode = segitiga, <br /> <br /> bilangan_1 = 10, <br /> <br /> bilangan_2 = 20 | 100 |\n",
    "| 3 | mode = persegi | \"Input kurang angka\" |\n",
    "| 4 | mode = persegi, <br /> <br /> bilangan_1 = 8 | 64 |\n",
    "| 5 | mode = persegi, <br /> <br /> bilangan_2 = 8 | \"Input harus ada bilangan_1\" |\n",
    "| 6 | bilangan_1 = 10, <br /> <br /> bilangan_2 = 20 | *-Program Error-* |"
   ]
  },
  {
   "cell_type": "code",
   "execution_count": 10,
   "metadata": {},
   "outputs": [
    {
     "data": {
      "text/plain": [
       "300.0"
      ]
     },
     "execution_count": 10,
     "metadata": {},
     "output_type": "execute_result"
    }
   ],
   "source": [
    "def hitung_luas(mode, bilangan_1, bilangan_2):\n",
    "    #jika tidak ada bilangan yang dimasukkan\n",
    "    if bilangan_1 == 0 and bilangan_2 == 0:\n",
    "        print(\"input harus ada angka\")\n",
    "    #jika bilangan 1 tidak dimasukkan\n",
    "    elif bilangan_1 == 0:\n",
    "        print(\"input harus ada bilangan 1\")\n",
    "    #jika hanya ada bilangan 1 dan tidak \n",
    "    else:\n",
    "        if bilangan_2 == 0:\n",
    "            bilangan_2 = bilangan_1\n",
    "        \n",
    "        if mode == 'persegi':\n",
    "            luas = bilangan_1 * bilangan_2\n",
    "        else:\n",
    "            luas = bilangan_1 * bilangan_2 /2\n",
    "        \n",
    "        return luas\n",
    "\n",
    "hitung_luas(mode='segitiga', bilangan_1 = 30, bilangan_2 =  20)\n",
    "    "
   ]
  },
  {
   "cell_type": "markdown",
   "metadata": {},
   "source": [
    "**NOMOR 5**\n",
    "\n",
    "Buatlah sebuah function untuk : \n",
    "  * Mereturn angka disuatu posisi berdasarkan bilangan pertama dari sebuah daftar angka-angka. \n",
    "  * Urutan posisi dimulai dari bilangan kedua.\n",
    "  * Jika bilangan pertama melebihi jumlah banyaknya daftar angka-angka, maka return **-1**. \n",
    "  * Input : daftar angka \n",
    "\n",
    "| No | Input | Output |\n",
    "| - | - | - |\n",
    "| 1 | (3, 10, 20, 30, 40) | 40 |\n",
    "| 2 | (0, -10, 10)| -10 |\n",
    "| 3 | (1, 2, 300, 10) | 300 |\n",
    "| 4 | (100, 200, 300, -400) | -1 |\n",
    "| 5 | (4, 200, 300, -400) | -1 |"
   ]
  },
  {
   "cell_type": "code",
   "execution_count": 13,
   "metadata": {},
   "outputs": [
    {
     "data": {
      "text/plain": [
       "-1"
      ]
     },
     "execution_count": 13,
     "metadata": {},
     "output_type": "execute_result"
    }
   ],
   "source": [
    "#cara ke-1 : tanpa menggunakan varibel-length\n",
    "\n",
    "def cetak_angka(posisi, daftar_angka):\n",
    "    if posisi > len(daftar_angka):\n",
    "        hasil = -1\n",
    "    else:\n",
    "        hasil = daftar_angka[posisi]\n",
    "    return hasil\n",
    "\n",
    "cetak_angka(5, (10, 20, 30, 40))"
   ]
  },
  {
   "cell_type": "code",
   "execution_count": 14,
   "metadata": {},
   "outputs": [
    {
     "data": {
      "text/plain": [
       "-1"
      ]
     },
     "execution_count": 14,
     "metadata": {},
     "output_type": "execute_result"
    }
   ],
   "source": [
    "#cara dengan menggunakan tuple\n",
    "def cetak_angka(posisi, *daftar_angka):\n",
    "    if posisi > len(daftar_angka):\n",
    "        hasil = -1\n",
    "    else:\n",
    "        hasil = daftar_angka[posisi]\n",
    "    return hasil\n",
    "\n",
    "cetak_angka(5, (10, 20, 30, 40))"
   ]
  },
  {
   "cell_type": "markdown",
   "metadata": {},
   "source": [
    "**NOMOR 6**\n",
    "\n",
    "Buatlah sebuah function untuk menampilkan nama siswa yang memiliki nilai paling besar\n",
    "  * Input : Beberapa nama_siswa beserta nilai_siswa\n",
    "\n",
    "\n",
    "| No | Input | Output |\n",
    "| - | - | - |\n",
    "| 1 | (anwar=90, budi=40, charlie=100) | 'charlie' |\n",
    "| 2 | (tom=30, rian=90, jim=60, lily=70, abby=40)| 'rian' |\n",
    "| 3 | (frank=100) | 'frank' |"
   ]
  },
  {
   "cell_type": "code",
   "execution_count": 22,
   "metadata": {},
   "outputs": [
    {
     "name": "stdout",
     "output_type": "stream",
     "text": [
      "{'anwar': 90, 'budi': 40, 'charlie': 100}\n",
      "nama siswa skor tertinggi :  charlie\n"
     ]
    }
   ],
   "source": [
    "def cek_nilai(**daftar_siswa):\n",
    "    print(daftar_siswa)\n",
    "\n",
    "    daftar_nama = list(daftar_siswa.keys())\n",
    "    daftar_nilai = list(daftar_siswa.values())\n",
    "\n",
    "    #print(daftar_nama)\n",
    "    nilai_maks = 0\n",
    "    nama_maks = ''\n",
    "    for index, nilai in enumerate(daftar_nilai):\n",
    "        if nilai >= nilai_maks:\n",
    "            nilai_maks = nilai\n",
    "            nama_maks = daftar_nama[index]\n",
    "\n",
    "    return nama_maks\n",
    "\n",
    "\n",
    "nama = cek_nilai(anwar=90, budi=40, charlie=100)\n",
    "print('nama siswa skor tertinggi : ', nama)\n",
    "\n",
    "\n"
   ]
  }
 ],
 "metadata": {
  "interpreter": {
   "hash": "89a5e99bca534775d831a361c82d740daac87034074a14017314d0e468cf7861"
  },
  "kernelspec": {
   "display_name": "Python 3.9.7 64-bit ('base': conda)",
   "language": "python",
   "name": "python3"
  },
  "language_info": {
   "codemirror_mode": {
    "name": "ipython",
    "version": 3
   },
   "file_extension": ".py",
   "mimetype": "text/x-python",
   "name": "python",
   "nbconvert_exporter": "python",
   "pygments_lexer": "ipython3",
   "version": "3.9.7"
  },
  "orig_nbformat": 4
 },
 "nbformat": 4,
 "nbformat_minor": 2
}
