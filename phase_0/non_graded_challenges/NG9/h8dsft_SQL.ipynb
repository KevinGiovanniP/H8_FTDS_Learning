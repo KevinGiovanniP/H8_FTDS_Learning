{
 "cells": [
  {
   "cell_type": "markdown",
   "metadata": {},
   "source": [
    "## Objectives "
   ]
  },
  {
   "cell_type": "markdown",
   "metadata": {},
   "source": [
    "* Akses data-data pada https://www.kaggle.com/anlgrbz/student-demographics-online-education-dataoulad kecuali studentVle.csv\n",
    "* Koneksikan Python dengan SQL Database menggunakan SQLite.\n",
    "* Simpan masing-masing data ke masing-masing tabel ke dalam SQLite database menggunakan keyword CREATE dan INSERT.\n",
    "* Buatlah query select untuk memperoleh data dengan kolom: id_student, region, code_module, assessment_type, score. Data yang diambil hanya dengan code_presentation 2014B.\n",
    "* Simpan hasil select record ke sebuah pandas dataframe, kemudian tampilkan hasilnya dan simpan ke dalam file excel."
   ]
  },
  {
   "cell_type": "markdown",
   "metadata": {},
   "source": [
    "## Import Library"
   ]
  },
  {
   "cell_type": "code",
   "execution_count": 1,
   "metadata": {},
   "outputs": [],
   "source": [
    "import sqlite3\n",
    "from sqlite3 import Error\n",
    "import csv"
   ]
  },
  {
   "cell_type": "markdown",
   "metadata": {},
   "source": [
    "## Connection Function"
   ]
  },
  {
   "cell_type": "code",
   "execution_count": 2,
   "metadata": {},
   "outputs": [
    {
     "name": "stdout",
     "output_type": "stream",
     "text": [
      "Connection to SQLite DB successful\n"
     ]
    }
   ],
   "source": [
    "try:\n",
    "    connection = sqlite3.connect('University')\n",
    "    print(\"Connection to SQLite DB successful\")\n",
    "except Error as e:\n",
    "    print(f\"The error '{e}' occurred\")\n",
    "\n"
   ]
  },
  {
   "cell_type": "code",
   "execution_count": null,
   "metadata": {},
   "outputs": [],
   "source": [
    "check = conn.execute(\"SELECT * FROM \")"
   ]
  },
  {
   "cell_type": "markdown",
   "metadata": {},
   "source": [
    "## Execute Function"
   ]
  },
  {
   "cell_type": "code",
   "execution_count": 6,
   "metadata": {},
   "outputs": [],
   "source": [
    "def execute_query(connection, query):\n",
    "    cursor = connection.cursor()\n",
    "    try:\n",
    "        cursor.execute(query)\n",
    "        connection.commit()\n",
    "        print(\"Query executed successfully\")\n",
    "    except Error as e:\n",
    "        print(f\"The error '{e}' occurred\")"
   ]
  },
  {
   "cell_type": "code",
   "execution_count": 7,
   "metadata": {},
   "outputs": [
    {
     "name": "stdout",
     "output_type": "stream",
     "text": [
      "Query executed successfully\n"
     ]
    }
   ],
   "source": [
    "create_users_table = \"\"\"\n",
    "CREATE TABLE IF NOT EXISTS assessments (\n",
    "  code_module TEXT NOT NULL, \n",
    "  code_presentation TEXT NOT NULL, \n",
    "  id_assessment INT NOT NULL, \n",
    "  assessment_type TEXT NOT NULL, \n",
    "  date INT NOT NULL, \n",
    "  weight INT \n",
    ") \n",
    "\"\"\"\n",
    "\n",
    "execute_query(connection, create_users_table)"
   ]
  },
  {
   "cell_type": "code",
   "execution_count": 8,
   "metadata": {},
   "outputs": [
    {
     "name": "stdout",
     "output_type": "stream",
     "text": [
      "Query executed successfully\n"
     ]
    }
   ],
   "source": [
    "create_courses_table = \"\"\"\n",
    "CREATE TABLE IF NOT EXISTS courses (\n",
    "  code_module TEXT NOT NULL, \n",
    "  code_presentation TEXT NOT NULL, \n",
    "  module_presentation_length INT NOT NULL\n",
    ") \n",
    "\"\"\"\n",
    "\n",
    "execute_query(connection, create_courses_table)"
   ]
  },
  {
   "cell_type": "code",
   "execution_count": 9,
   "metadata": {},
   "outputs": [
    {
     "name": "stdout",
     "output_type": "stream",
     "text": [
      "Query executed successfully\n"
     ]
    }
   ],
   "source": [
    "create_studentAssessment_table = \"\"\"\n",
    "CREATE TABLE IF NOT EXISTS studentAssessment (\n",
    "  id_assessment INT NOT NULL,\n",
    "  id_student INT NOT NULL, \n",
    "  date_submitted INT NOT NULL, \n",
    "  is_banked INT NOT NULL, \n",
    "  score INT NOT NULL,\n",
    "  PRIMARY KEY(id_assessment) \n",
    ") \n",
    "\"\"\"\n",
    "\n",
    "execute_query(connection, create_studentAssessment_table)"
   ]
  },
  {
   "cell_type": "code",
   "execution_count": 10,
   "metadata": {},
   "outputs": [
    {
     "name": "stdout",
     "output_type": "stream",
     "text": [
      "Query executed successfully\n"
     ]
    }
   ],
   "source": [
    "create_studentInfo_table = \"\"\"\n",
    "CREATE TABLE IF NOT EXISTS studentInfo (\n",
    " code_module TEXT NOT NULL,\n",
    " code_presentation TEXT NOT NULL,\n",
    " id_student INT NOT NULL,\n",
    " gender TEXT NOT NULL,\n",
    " region TEXT NOT NULL,\n",
    " highest_education TEXT NOT NULL,\n",
    " imd_band TEXT NOT NULL,\n",
    " age_band TEXT NOT NULL,\n",
    " num_of_prev_attempts INT NOT NULL ,\n",
    " studied_credits INT NOT NULL,\n",
    " disability TEXT NOT NULL,\n",
    " final_result TEXT NOT NULL\n",
    ") \n",
    "\"\"\"\n",
    "\n",
    "execute_query(connection, create_studentInfo_table)"
   ]
  },
  {
   "cell_type": "code",
   "execution_count": 11,
   "metadata": {},
   "outputs": [
    {
     "name": "stdout",
     "output_type": "stream",
     "text": [
      "Query executed successfully\n"
     ]
    }
   ],
   "source": [
    "create_studentRegistration_table = \"\"\"\n",
    "CREATE TABLE IF NOT EXISTS studentRegistration (\n",
    " code_module TEXT NOT NULL,\n",
    " code_presentation TEXT NOT NULL,\n",
    " id_student INT NOT NULL,\n",
    " date_registration INT NOT NULL ,\n",
    " date_unregistration INT\n",
    ") \n",
    "\"\"\"\n",
    "\n",
    "execute_query(connection, create_studentRegistration_table)"
   ]
  },
  {
   "cell_type": "code",
   "execution_count": 12,
   "metadata": {},
   "outputs": [
    {
     "name": "stdout",
     "output_type": "stream",
     "text": [
      "Query executed successfully\n"
     ]
    }
   ],
   "source": [
    "create_vle_table = \"\"\"\n",
    "CREATE TABLE IF NOT EXISTS vle (\n",
    " id_site INT NOT NULL,\n",
    " code_module TEXT NOT NULL,\n",
    " code_presentation TEXT NOT NULL,\n",
    " activity_type TEXT NOT NULL,\n",
    " week_from INT,\n",
    " week_to INT,\n",
    " PRIMARY KEY(id_site)\n",
    ") \n",
    "\"\"\"\n",
    "\n",
    "execute_query(connection, create_vle_table)"
   ]
  },
  {
   "cell_type": "code",
   "execution_count": 14,
   "metadata": {},
   "outputs": [],
   "source": [
    "checking  = connection.execute(\"SELECT * FROM assessments\")\n",
    "\n",
    "for row in checking :\n",
    "    print(row)\n",
    "\n"
   ]
  },
  {
   "cell_type": "code",
   "execution_count": 17,
   "metadata": {},
   "outputs": [
    {
     "ename": "AttributeError",
     "evalue": "'str' object has no attribute 'cursor'",
     "output_type": "error",
     "traceback": [
      "\u001b[1;31m---------------------------------------------------------------------------\u001b[0m",
      "\u001b[1;31mAttributeError\u001b[0m                            Traceback (most recent call last)",
      "\u001b[1;32m~\\AppData\\Local\\Temp/ipykernel_9208/797981577.py\u001b[0m in \u001b[0;36m<module>\u001b[1;34m\u001b[0m\n\u001b[0;32m      4\u001b[0m     \u001b[0mno_records\u001b[0m \u001b[1;33m=\u001b[0m \u001b[1;36m0\u001b[0m\u001b[1;33m\u001b[0m\u001b[1;33m\u001b[0m\u001b[0m\n\u001b[0;32m      5\u001b[0m     \u001b[1;32mfor\u001b[0m \u001b[0mrow\u001b[0m \u001b[1;32min\u001b[0m \u001b[0mfile\u001b[0m\u001b[1;33m:\u001b[0m\u001b[1;33m\u001b[0m\u001b[1;33m\u001b[0m\u001b[0m\n\u001b[1;32m----> 6\u001b[1;33m         \u001b[0mexecute_query\u001b[0m\u001b[1;33m(\u001b[0m\u001b[1;34m\"INSERT INTO assessments VALUES (?,?,?,?,?)\"\u001b[0m\u001b[1;33m,\u001b[0m \u001b[0mrow\u001b[0m\u001b[1;33m.\u001b[0m\u001b[0msplit\u001b[0m\u001b[1;33m(\u001b[0m\u001b[1;34m\",\"\u001b[0m\u001b[1;33m)\u001b[0m\u001b[1;33m)\u001b[0m\u001b[1;33m\u001b[0m\u001b[1;33m\u001b[0m\u001b[0m\n\u001b[0m\u001b[0;32m      7\u001b[0m         \u001b[0mconn\u001b[0m\u001b[1;33m.\u001b[0m\u001b[0mcommit\u001b[0m\u001b[1;33m(\u001b[0m\u001b[1;33m)\u001b[0m\u001b[1;33m\u001b[0m\u001b[1;33m\u001b[0m\u001b[0m\n\u001b[0;32m      8\u001b[0m         \u001b[0mno_records\u001b[0m \u001b[1;33m+=\u001b[0m \u001b[1;36m1\u001b[0m\u001b[1;33m\u001b[0m\u001b[1;33m\u001b[0m\u001b[0m\n",
      "\u001b[1;32m~\\AppData\\Local\\Temp/ipykernel_9208/3208256427.py\u001b[0m in \u001b[0;36mexecute_query\u001b[1;34m(conn, query)\u001b[0m\n\u001b[0;32m      1\u001b[0m \u001b[1;32mdef\u001b[0m \u001b[0mexecute_query\u001b[0m\u001b[1;33m(\u001b[0m\u001b[0mconn\u001b[0m\u001b[1;33m,\u001b[0m \u001b[0mquery\u001b[0m\u001b[1;33m)\u001b[0m\u001b[1;33m:\u001b[0m\u001b[1;33m\u001b[0m\u001b[1;33m\u001b[0m\u001b[0m\n\u001b[1;32m----> 2\u001b[1;33m     \u001b[0mcursor\u001b[0m \u001b[1;33m=\u001b[0m \u001b[0mconn\u001b[0m\u001b[1;33m.\u001b[0m\u001b[0mcursor\u001b[0m\u001b[1;33m(\u001b[0m\u001b[1;33m)\u001b[0m\u001b[1;33m\u001b[0m\u001b[1;33m\u001b[0m\u001b[0m\n\u001b[0m\u001b[0;32m      3\u001b[0m     \u001b[1;32mtry\u001b[0m\u001b[1;33m:\u001b[0m\u001b[1;33m\u001b[0m\u001b[1;33m\u001b[0m\u001b[0m\n\u001b[0;32m      4\u001b[0m         \u001b[0mcursor\u001b[0m\u001b[1;33m.\u001b[0m\u001b[0mexecute\u001b[0m\u001b[1;33m(\u001b[0m\u001b[0mquery\u001b[0m\u001b[1;33m)\u001b[0m\u001b[1;33m\u001b[0m\u001b[1;33m\u001b[0m\u001b[0m\n\u001b[0;32m      5\u001b[0m         \u001b[0mconn\u001b[0m\u001b[1;33m.\u001b[0m\u001b[0mcommit\u001b[0m\u001b[1;33m(\u001b[0m\u001b[1;33m)\u001b[0m\u001b[1;33m\u001b[0m\u001b[1;33m\u001b[0m\u001b[0m\n",
      "\u001b[1;31mAttributeError\u001b[0m: 'str' object has no attribute 'cursor'"
     ]
    }
   ],
   "source": [
    "cursor1 = conn.cursor()\n",
    "\n",
    "with open('assessments.csv', 'r') as file:\n",
    "    no_records = 0\n",
    "    for row in file:\n",
    "        execute_query(\"INSERT INTO assessments VALUES (?,?,?,?,?)\", row.split(\",\"))\n",
    "        conn.commit()\n",
    "        no_records += 1\n",
    "print('\\n{} records transferred'.format())\n",
    "    "
   ]
  }
 ],
 "metadata": {
  "interpreter": {
   "hash": "89a5e99bca534775d831a361c82d740daac87034074a14017314d0e468cf7861"
  },
  "kernelspec": {
   "display_name": "Python 3.9.7 64-bit ('base': conda)",
   "language": "python",
   "name": "python3"
  },
  "language_info": {
   "codemirror_mode": {
    "name": "ipython",
    "version": 3
   },
   "file_extension": ".py",
   "mimetype": "text/x-python",
   "name": "python",
   "nbconvert_exporter": "python",
   "pygments_lexer": "ipython3",
   "version": "3.9.7"
  },
  "orig_nbformat": 4
 },
 "nbformat": 4,
 "nbformat_minor": 2
}
