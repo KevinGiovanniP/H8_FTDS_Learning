{
  "nbformat": 4,
  "nbformat_minor": 0,
  "metadata": {
    "colab": {
      "name": "non graded challenge 3.ipynb",
      "provenance": [],
      "collapsed_sections": []
    },
    "kernelspec": {
      "name": "python3",
      "display_name": "Python 3"
    },
    "language_info": {
      "name": "python"
    }
  },
  "cells": [
    {
      "cell_type": "markdown",
      "source": [
        "# Vector\n"
      ],
      "metadata": {
        "id": "pN_XyA3tdCWP"
      }
    },
    {
      "cell_type": "code",
      "source": [
        "import numpy as np"
      ],
      "metadata": {
        "id": "zmTwL6J_vgjl"
      },
      "execution_count": null,
      "outputs": []
    },
    {
      "cell_type": "markdown",
      "source": [
        "## Pendefinisian List"
      ],
      "metadata": {
        "id": "rkbzuh6WdH-B"
      }
    },
    {
      "cell_type": "markdown",
      "source": [
        "1. Buatlah Vector dibawah ini dengan Python:\n",
        "$$ \\begin{bmatrix} 17 \\ 22 \\ 19 \\end{bmatrix} $$\n"
      ],
      "metadata": {
        "id": "AhO1F9ETvE1P"
      }
    },
    {
      "cell_type": "code",
      "execution_count": null,
      "metadata": {
        "id": "rmwaWWqEu8qj"
      },
      "outputs": [],
      "source": [
        "#pendefinisian vektor dengan menggunakan list\n",
        "a = [17, 22, 19]\n",
        "a = np.array(a)"
      ]
    },
    {
      "cell_type": "code",
      "source": [
        "a"
      ],
      "metadata": {
        "colab": {
          "base_uri": "https://localhost:8080/"
        },
        "id": "tcP8bJFcvdPY",
        "outputId": "e5694e8f-a89d-4789-ad93-8612aada3a4b"
      },
      "execution_count": null,
      "outputs": [
        {
          "output_type": "execute_result",
          "data": {
            "text/plain": [
              "array([17, 22, 19])"
            ]
          },
          "metadata": {},
          "execution_count": 4
        }
      ]
    },
    {
      "cell_type": "markdown",
      "source": [
        "2. Diberikan 3 buah vektor 3 dimensi: $$ A= \\begin{bmatrix} 17 \\ 22 \\ 19 \\end{bmatrix} ,B= \\begin{bmatrix} 10 \\ 20 \\ 11 \\end{bmatrix}, C= \\begin{bmatrix} 5 \\ 12 \\ 9 \\end{bmatrix} $$\n",
        "Hitunglah:\n",
        "\n",
        "  A+B\n",
        "\n",
        "  B-C\n",
        "\n",
        "  A dot C\n",
        "\n",
        "  A x B\n",
        "\n",
        "  norm A\n",
        "\n",
        "  Sudut antara vektor A dan B\n",
        "\n",
        "  Buatlah plot dari vector berikut ini kedalam bidang 2D:\n",
        "\n",
        "$$ U = \\begin{bmatrix} 2 \\ 5 \\end{bmatrix}, V = \\begin{bmatrix} 3 \\ 1 \\end{bmatrix} $$"
      ],
      "metadata": {
        "id": "GLokGqYavkpn"
      }
    },
    {
      "cell_type": "code",
      "source": [
        "b  = [10,20, 12]\n",
        "c = [5, 12, 9]\n",
        "\n",
        "#Pendefinisian vektor dengan menggunakan numpy\n",
        "b = np.array(b)\n",
        "c = np.array(c)\n",
        "\n",
        "#vektor hasil numpy dapat dilakukan operasi aritmatika     \n",
        "#a+b\n",
        "print(\"hasil pejumlahan vektor:\")\n",
        "print(a+b)\n",
        "\n",
        "#b-c\n",
        "print(\"hasil pengurangan vektor:\")\n",
        "print(b-c)\n",
        "\n",
        "#a.b\n",
        "print(\"hasil dot product :\")\n",
        "print(np.dot(a,b))\n",
        "\n",
        "#norm A\n",
        "print(\"hasil norm vektor a:\")\n",
        "print(np.linalg.norm(a))"
      ],
      "metadata": {
        "colab": {
          "base_uri": "https://localhost:8080/"
        },
        "id": "SogK6p37vjiE",
        "outputId": "c565e695-667c-4942-e219-522130213d72"
      },
      "execution_count": null,
      "outputs": [
        {
          "output_type": "stream",
          "name": "stdout",
          "text": [
            "hasil pejumlahan vektor:\n",
            "[27 42 31]\n",
            "hasil pengurangan vektor:\n",
            "[5 8 3]\n",
            "hasil dot product :\n",
            "838\n",
            "hasil norm vektor a:\n",
            "33.67491648096547\n"
          ]
        }
      ]
    },
    {
      "cell_type": "code",
      "source": [
        "#cone similarity\n",
        "result_dot_product = a.dot(b)\n",
        "cos_theta = result_dot_product / (np.linalg.norm(a) * np.linalg.norm(b))\n",
        "\n",
        "#mengubah cos_theta ke dalam radians untuk dicari derajat sudutnya\n",
        "radians = np.arccos(cos_theta)\n",
        "\n",
        "#mengubah radians untuk dicari derajat sudutnya\n",
        "degree = np.degrees(radians)\n",
        "\n",
        "print(\"cos theta              :\", cos_theta)\n",
        "print(\"radians                :\", radians)\n",
        "print(\"Degree/Derajat sudut   :\", degree)\n",
        "\n"
      ],
      "metadata": {
        "colab": {
          "base_uri": "https://localhost:8080/"
        },
        "id": "11lZb572zRLI",
        "outputId": "66001c1b-e91a-48e6-803a-6f2178cc7bdd"
      },
      "execution_count": null,
      "outputs": [
        {
          "output_type": "stream",
          "name": "stdout",
          "text": [
            "cos theta              : 0.9806060258555858\n",
            "radians                : 0.19726625706719378\n",
            "Degree/Derajat sudut   : 11.302523970292953\n"
          ]
        }
      ]
    },
    {
      "cell_type": "code",
      "source": [
        "# membuat plot dari 2 vector\n",
        "\n",
        "u = np.array([2,5])\n",
        "v = np.array([3,1])"
      ],
      "metadata": {
        "id": "L-9qpU_LHGZT"
      },
      "execution_count": null,
      "outputs": []
    },
    {
      "cell_type": "code",
      "source": [
        "u"
      ],
      "metadata": {
        "colab": {
          "base_uri": "https://localhost:8080/"
        },
        "id": "NQLff8tiIysp",
        "outputId": "ba66abd0-82ae-46a4-f899-06b87ee530e7"
      },
      "execution_count": null,
      "outputs": [
        {
          "output_type": "execute_result",
          "data": {
            "text/plain": [
              "array([2, 5])"
            ]
          },
          "metadata": {},
          "execution_count": 10
        }
      ]
    },
    {
      "cell_type": "code",
      "source": [
        "v"
      ],
      "metadata": {
        "colab": {
          "base_uri": "https://localhost:8080/"
        },
        "id": "Qkhh2gbhIzfG",
        "outputId": "2a3b6b2b-7edb-43e4-a63e-15f0e64ac9a1"
      },
      "execution_count": null,
      "outputs": [
        {
          "output_type": "execute_result",
          "data": {
            "text/plain": [
              "array([3, 1])"
            ]
          },
          "metadata": {},
          "execution_count": 11
        }
      ]
    },
    {
      "cell_type": "code",
      "source": [
        "uni_vect = np.array([u,v])"
      ],
      "metadata": {
        "id": "x2lbYG9bI4vA"
      },
      "execution_count": null,
      "outputs": []
    },
    {
      "cell_type": "code",
      "source": [
        "uni_vect"
      ],
      "metadata": {
        "colab": {
          "base_uri": "https://localhost:8080/"
        },
        "id": "EAJAyvfHMAnK",
        "outputId": "9765907e-f561-402a-91db-e87cbd92da7e"
      },
      "execution_count": null,
      "outputs": [
        {
          "output_type": "execute_result",
          "data": {
            "text/plain": [
              "array([[2, 5],\n",
              "       [3, 1]])"
            ]
          },
          "metadata": {},
          "execution_count": 13
        }
      ]
    },
    {
      "cell_type": "code",
      "source": [
        "uni_vect.shape"
      ],
      "metadata": {
        "colab": {
          "base_uri": "https://localhost:8080/"
        },
        "id": "HWybysVzMCNf",
        "outputId": "9db8e2ad-3a30-48cc-cba8-2488a27dbffc"
      },
      "execution_count": null,
      "outputs": [
        {
          "output_type": "execute_result",
          "data": {
            "text/plain": [
              "(2, 2)"
            ]
          },
          "metadata": {},
          "execution_count": 14
        }
      ]
    },
    {
      "cell_type": "code",
      "source": [
        ""
      ],
      "metadata": {
        "id": "xZZwuQsuMGL3"
      },
      "execution_count": null,
      "outputs": []
    }
  ]
}