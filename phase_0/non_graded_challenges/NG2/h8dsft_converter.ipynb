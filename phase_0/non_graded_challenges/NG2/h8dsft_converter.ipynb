{
 "cells": [
  {
   "cell_type": "markdown",
   "metadata": {},
   "source": [
    "## Non Graded Challenge 2\n",
    "\n",
    "- Buatlah sebuah function yang dapat mengkonversi suhu dari kelvin ke celcius, dan celcius ke kelvin.\n",
    "- Buatlah sebuah function yang dapat mengkonversi suhu ke fahrenheit. Tambahkan parameter untuk memastikan bahwa argumen yang dimasukan adalah celcius atau kelvin. Panggil function yang pertama jika diperlukan.\n",
    "- Buatlah sebuah function yang dapat mengkonversi suhu dari fahrenheit. \n",
    "- Berikan -argumen untuk memastikan bahwa outputnya dalah celcius atau kelvin.▪Berikan dokumentasi pada setiap baris kode yang kalian tulis.\n"
   ]
  },
  {
   "cell_type": "markdown",
   "metadata": {},
   "source": [
    "## function celcius ke kelvin dan kelvin ke celcius\n",
    "\n",
    "- rumus :\n",
    " 1. rumus kelvin ke celcius K = C + 273\n",
    " 2. rumus celcius ke kelvin C = K - 273"
   ]
  },
  {
   "cell_type": "code",
   "execution_count": 19,
   "metadata": {},
   "outputs": [
    {
     "name": "stdout",
     "output_type": "stream",
     "text": [
      "suhu berada pada angka 296 Kelvin\n"
     ]
    }
   ],
   "source": [
    "#function\n",
    "def celsius_ke_kelvin(tipe_suhu,suhu1):\n",
    "    #jika suhu yang dimasukkan celcius\n",
    "    if tipe_suhu == \"celcius\":\n",
    "        hitungan_suhu = suhu1 + 273\n",
    "        print(f\"suhu berada pada angka {hitungan_suhu} Kelvin\")\n",
    "    else:\n",
    "    #jika suhu yang dimasukkan kelvin\n",
    "        hitungan_suhu = suhu1 - 273\n",
    "        print(f\"suhu berada pada angka {hitungan_suhu} Celcius\")\n",
    "\n",
    "#pemanggilan function dan hasil perhitungan suhu\n",
    "celsius_ke_kelvin(tipe_suhu='celcius',suhu1=23)   \n"
   ]
  },
  {
   "cell_type": "markdown",
   "metadata": {},
   "source": [
    "## function suhu (celcius dan kelvin) ke fahrenheit\n"
   ]
  },
  {
   "cell_type": "code",
   "execution_count": 18,
   "metadata": {},
   "outputs": [
    {
     "name": "stdout",
     "output_type": "stream",
     "text": [
      "suhu berada pada angka 93.2 fahrenheit\n"
     ]
    }
   ],
   "source": [
    "#function\n",
    "def suhu_ke_fahrenheit(tipe_suhu,suhu2):\n",
    "        if tipe_suhu == \"celcius\":\n",
    "            hitungan_suhu = ((9/5)*suhu2)+32\n",
    "            print(f\"suhu berada pada angka {hitungan_suhu} fahrenheit\")\n",
    "        elif tipe_suhu == \"kelvin\":\n",
    "            hitungan_suhu = ((9/5)*(suhu2-273))+32\n",
    "            print(f\"suhu berada pada angka {hitungan_suhu} fahrenheit\")\n",
    "        else:\n",
    "            print(\"tipe_suhu yang anda masukkan salah\")\n",
    "                \n",
    "\n",
    "suhu_ke_fahrenheit(tipe_suhu='celcius', suhu2 = 34) "
   ]
  },
  {
   "cell_type": "markdown",
   "metadata": {},
   "source": [
    "## function fahrenheit ke satuan suhu lainnya"
   ]
  },
  {
   "cell_type": "code",
   "execution_count": 20,
   "metadata": {},
   "outputs": [
    {
     "name": "stdout",
     "output_type": "stream",
     "text": [
      "suhu berada pada angka -4.222222222222221 celcius\n"
     ]
    }
   ],
   "source": [
    "#function\n",
    "def fahrenheit_ke_suhu_lain(tipe_suhu,suhu2):\n",
    " if tipe_suhu == \"ke_celcius\":\n",
    "    hitungan_suhu = ((5/9)*suhu2)-32\n",
    "    print(f\"suhu berada pada angka {hitungan_suhu} celcius\")\n",
    " elif tipe_suhu == \"ke_kelvin\":\n",
    "     hitungan_suhu = ((5/9)*(suhu2-32))+273\n",
    "     print(f\"suhu berada pada angka {hitungan_suhu} kelvin\")\n",
    " else:\n",
    "    print(\"tipe_suhu yang anda masukkan salah\")\n",
    "\n",
    "\n",
    "fahrenheit_ke_suhu_lain(tipe_suhu='ke_celcius', suhu2 = 50)"
   ]
  }
 ],
 "metadata": {
  "language_info": {
   "name": "python"
  },
  "orig_nbformat": 4
 },
 "nbformat": 4,
 "nbformat_minor": 2
}
