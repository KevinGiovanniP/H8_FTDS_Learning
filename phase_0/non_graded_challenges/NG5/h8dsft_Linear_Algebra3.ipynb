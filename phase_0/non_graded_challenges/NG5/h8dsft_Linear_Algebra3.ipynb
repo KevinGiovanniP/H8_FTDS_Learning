{
 "cells": [
  {
   "cell_type": "markdown",
   "metadata": {},
   "source": [
    "Apakah $ \\begin{bmatrix}1 \\\\ 3 \\end{bmatrix}$ adalah eigenvector dari $\\begin{bmatrix}1 & -1 \\\\ 6 &-4 \\end{bmatrix}$? Jika iya, berapakah eigenvalue-nya?"
   ]
  },
  {
   "cell_type": "code",
   "execution_count": 4,
   "metadata": {},
   "outputs": [],
   "source": [
    "#mengimport library yang dibutuhkan\n",
    "import numpy as np\n",
    "from numpy import array\n",
    "from numpy.linalg import eig\n"
   ]
  },
  {
   "cell_type": "code",
   "execution_count": 7,
   "metadata": {},
   "outputs": [
    {
     "data": {
      "text/plain": [
       "array([[ 1, -1],\n",
       "       [ 6, -4]])"
      ]
     },
     "execution_count": 7,
     "metadata": {},
     "output_type": "execute_result"
    }
   ],
   "source": [
    "#membuat matriks \n",
    "A = np.array([[1,-1],[6,-4]])\n",
    "\n",
    "A"
   ]
  },
  {
   "cell_type": "code",
   "execution_count": 12,
   "metadata": {},
   "outputs": [
    {
     "name": "stdout",
     "output_type": "stream",
     "text": [
      "hasil eigenvalues dari matriks diatas : \n",
      "[-1. -2.] \n",
      "\n",
      "hasil eigenvector dari matriks diatas :\n",
      "[[0.4472136  0.31622777]\n",
      " [0.89442719 0.9486833 ]]\n"
     ]
    }
   ],
   "source": [
    "values, vectors = eig(A)\n",
    "\n",
    "print(\"hasil eigenvalues dari matriks diatas : \")\n",
    "print(values, \"\\n\")\n",
    "\n",
    "\n",
    "print(\"hasil eigenvector dari matriks diatas :\")\n",
    "print(vectors) "
   ]
  }
 ],
 "metadata": {
  "interpreter": {
   "hash": "89a5e99bca534775d831a361c82d740daac87034074a14017314d0e468cf7861"
  },
  "kernelspec": {
   "display_name": "Python 3.9.7 64-bit ('base': conda)",
   "language": "python",
   "name": "python3"
  },
  "language_info": {
   "codemirror_mode": {
    "name": "ipython",
    "version": 3
   },
   "file_extension": ".py",
   "mimetype": "text/x-python",
   "name": "python",
   "nbconvert_exporter": "python",
   "pygments_lexer": "ipython3",
   "version": "3.9.7"
  },
  "orig_nbformat": 4
 },
 "nbformat": 4,
 "nbformat_minor": 2
}
