{
  "cells": [
    {
      "cell_type": "markdown",
      "metadata": {
        "id": "pN_XyA3tdCWP"
      },
      "source": [
        "# Vector\n"
      ]
    },
    {
      "cell_type": "code",
      "execution_count": 2,
      "metadata": {
        "id": "zmTwL6J_vgjl"
      },
      "outputs": [],
      "source": [
        "import numpy as np"
      ]
    },
    {
      "cell_type": "markdown",
      "metadata": {
        "id": "rkbzuh6WdH-B"
      },
      "source": [
        "## Pendefinisian List"
      ]
    },
    {
      "cell_type": "markdown",
      "metadata": {
        "id": "AhO1F9ETvE1P"
      },
      "source": [
        "1. Buatlah Vector dibawah ini dengan Python:\n",
        "$$ \\begin{bmatrix} 17 \\ 22 \\ 19 \\end{bmatrix} $$\n"
      ]
    },
    {
      "cell_type": "code",
      "execution_count": 3,
      "metadata": {
        "id": "rmwaWWqEu8qj"
      },
      "outputs": [],
      "source": [
        "#pendefinisian vektor dengan menggunakan list\n",
        "a = [17, 22, 19]\n",
        "a = np.array(a)"
      ]
    },
    {
      "cell_type": "code",
      "execution_count": 4,
      "metadata": {
        "colab": {
          "base_uri": "https://localhost:8080/"
        },
        "id": "tcP8bJFcvdPY",
        "outputId": "e5694e8f-a89d-4789-ad93-8612aada3a4b"
      },
      "outputs": [
        {
          "data": {
            "text/plain": [
              "array([17, 22, 19])"
            ]
          },
          "execution_count": 4,
          "metadata": {},
          "output_type": "execute_result"
        }
      ],
      "source": [
        "a"
      ]
    },
    {
      "cell_type": "markdown",
      "metadata": {
        "id": "GLokGqYavkpn"
      },
      "source": [
        "2. Diberikan 3 buah vektor 3 dimensi: $$ A= \\begin{bmatrix} 17 \\ 22 \\ 19 \\end{bmatrix} ,B= \\begin{bmatrix} 10 \\ 20 \\ 11 \\end{bmatrix}, C= \\begin{bmatrix} 5 \\ 12 \\ 9 \\end{bmatrix} $$\n",
        "Hitunglah:\n",
        "\n",
        "  A+B\n",
        "\n",
        "  B-C\n",
        "\n",
        "  A dot C\n",
        "\n",
        "  A x B\n",
        "\n",
        "  norm A\n",
        "\n",
        "  Sudut antara vektor A dan B\n",
        "\n",
        "  Buatlah plot dari vector berikut ini kedalam bidang 2D:\n",
        "\n",
        "$$ U = \\begin{bmatrix} 2 \\ 5 \\end{bmatrix}, V = \\begin{bmatrix} 3 \\ 1 \\end{bmatrix} $$"
      ]
    },
    {
      "cell_type": "code",
      "execution_count": 5,
      "metadata": {
        "colab": {
          "base_uri": "https://localhost:8080/"
        },
        "id": "SogK6p37vjiE",
        "outputId": "c565e695-667c-4942-e219-522130213d72"
      },
      "outputs": [
        {
          "name": "stdout",
          "output_type": "stream",
          "text": [
            "hasil pejumlahan vektor:\n",
            "[27 42 31]\n",
            "hasil pengurangan vektor:\n",
            "[5 8 3]\n",
            "hasil dot product :\n",
            "838\n",
            "hasil norm vektor a:\n",
            "33.67491648096547\n"
          ]
        }
      ],
      "source": [
        "b  = [10,20, 12]\n",
        "c = [5, 12, 9]\n",
        "\n",
        "#Pendefinisian vektor dengan menggunakan numpy\n",
        "b = np.array(b)\n",
        "c = np.array(c)\n",
        "\n",
        "#vektor hasil numpy dapat dilakukan operasi aritmatika     \n",
        "#a+b\n",
        "print(\"hasil pejumlahan vektor:\")\n",
        "print(a+b)\n",
        "\n",
        "#b-c\n",
        "print(\"hasil pengurangan vektor:\")\n",
        "print(b-c)\n",
        "\n",
        "#a.b\n",
        "print(\"hasil dot product :\")\n",
        "print(np.dot(a,b))\n",
        "\n",
        "#norm A\n",
        "print(\"hasil norm vektor a:\")\n",
        "print(np.linalg.norm(a))"
      ]
    },
    {
      "cell_type": "code",
      "execution_count": 6,
      "metadata": {
        "colab": {
          "base_uri": "https://localhost:8080/"
        },
        "id": "11lZb572zRLI",
        "outputId": "66001c1b-e91a-48e6-803a-6f2178cc7bdd"
      },
      "outputs": [
        {
          "name": "stdout",
          "output_type": "stream",
          "text": [
            "cos theta              : 0.9806060258555858\n",
            "radians                : 0.19726625706719378\n",
            "Degree/Derajat sudut   : 11.302523970292953\n"
          ]
        }
      ],
      "source": [
        "#cone similarity\n",
        "result_dot_product = a.dot(b)\n",
        "cos_theta = result_dot_product / (np.linalg.norm(a) * np.linalg.norm(b))\n",
        "\n",
        "#mengubah cos_theta ke dalam radians untuk dicari derajat sudutnya\n",
        "radians = np.arccos(cos_theta)\n",
        "\n",
        "#mengubah radians untuk dicari derajat sudutnya\n",
        "degree = np.degrees(radians)\n",
        "\n",
        "print(\"cos theta              :\", cos_theta)\n",
        "print(\"radians                :\", radians)\n",
        "print(\"Degree/Derajat sudut   :\", degree)\n",
        "\n"
      ]
    },
    {
      "cell_type": "code",
      "execution_count": 7,
      "metadata": {
        "id": "L-9qpU_LHGZT"
      },
      "outputs": [],
      "source": [
        "# membuat plot dari 2 vector\n",
        "\n",
        "u = np.array([2,5])\n",
        "v = np.array([3,1])"
      ]
    },
    {
      "cell_type": "code",
      "execution_count": 8,
      "metadata": {
        "colab": {
          "base_uri": "https://localhost:8080/"
        },
        "id": "NQLff8tiIysp",
        "outputId": "ba66abd0-82ae-46a4-f899-06b87ee530e7"
      },
      "outputs": [
        {
          "data": {
            "text/plain": [
              "array([2, 5])"
            ]
          },
          "execution_count": 8,
          "metadata": {},
          "output_type": "execute_result"
        }
      ],
      "source": [
        "u"
      ]
    },
    {
      "cell_type": "code",
      "execution_count": 9,
      "metadata": {
        "colab": {
          "base_uri": "https://localhost:8080/"
        },
        "id": "Qkhh2gbhIzfG",
        "outputId": "2a3b6b2b-7edb-43e4-a63e-15f0e64ac9a1"
      },
      "outputs": [
        {
          "data": {
            "text/plain": [
              "array([3, 1])"
            ]
          },
          "execution_count": 9,
          "metadata": {},
          "output_type": "execute_result"
        }
      ],
      "source": [
        "v"
      ]
    },
    {
      "cell_type": "code",
      "execution_count": 11,
      "metadata": {},
      "outputs": [],
      "source": [
        "import matplotlib.pyplot as plt"
      ]
    },
    {
      "cell_type": "code",
      "execution_count": 12,
      "metadata": {
        "id": "xZZwuQsuMGL3"
      },
      "outputs": [
        {
          "data": {
            "image/png": "[encoded data removed]",
            "text/plain": [
              "<Figure size 432x288 with 1 Axes>"
            ]
          },
          "metadata": {
            "needs_background": "light"
          },
          "output_type": "display_data"
        }
      ],
      "source": [
        "u = np.array([2, 5])\n",
        "v = np.array([3, 1])\n",
        "x_coords, y_coords = zip(u, v)\n",
        "plt.scatter(x_coords, y_coords, color=[\"g\",\"r\"])\n",
        "plt.axis([0,6,0,6])\n",
        "plt.grid()\n",
        "plt.show()"
      ]
    }
  ],
  "metadata": {
    "colab": {
      "collapsed_sections": [],
      "name": "non graded challenge 3.ipynb",
      "provenance": []
    },
    "kernelspec": {
      "display_name": "Python 3",
      "name": "python3"
    },
    "language_info": {
      "codemirror_mode": {
        "name": "ipython",
        "version": 3
      },
      "file_extension": ".py",
      "mimetype": "text/x-python",
      "name": "python",
      "nbconvert_exporter": "python",
      "pygments_lexer": "ipython3",
      "version": "3.9.7"
    }
  },
  "nbformat": 4,
  "nbformat_minor": 0
}
