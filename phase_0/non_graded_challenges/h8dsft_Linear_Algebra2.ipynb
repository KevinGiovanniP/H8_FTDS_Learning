{
 "cells": [
  {
   "cell_type": "markdown",
   "metadata": {},
   "source": [
    "## Assignment Instructions\n"
   ]
  },
  {
   "cell_type": "code",
   "execution_count": 2,
   "metadata": {},
   "outputs": [],
   "source": [
    "import numpy as np\n"
   ]
  },
  {
   "cell_type": "markdown",
   "metadata": {},
   "source": [
    "Buatlah Tensor dibawah ini dengan Python:\n",
    "\n",
    "$$ \\begin{bmatrix} \\begin{bmatrix} 23 & 50 \\\\ 7 & 12 \\ \\end{bmatrix} \\begin{bmatrix} 57 & 67 \\\\ 99 & 43 \\end{bmatrix} \\ \\begin{bmatrix} 75 & 21 \\\\ 57 & 12 \\ \\end{bmatrix} \\begin{bmatrix} 87 & 26 \\\\ 18 & 84 \\end{bmatrix} \\end{bmatrix} $$"
   ]
  },
  {
   "cell_type": "code",
   "execution_count": 18,
   "metadata": {},
   "outputs": [],
   "source": [
    "Tensor=np.array(\n",
    "    [\n",
    "        [[23,50],[7,12]],\n",
    "        [[57,67],[99,43]],\n",
    "        [[75,21],[57,12]],\n",
    "        [[87,26],[18,84]]\n",
    "    ]\n",
    ")"
   ]
  },
  {
   "cell_type": "code",
   "execution_count": 19,
   "metadata": {},
   "outputs": [
    {
     "data": {
      "text/plain": [
       "array([[[23, 50],\n",
       "        [ 7, 12]],\n",
       "\n",
       "       [[57, 67],\n",
       "        [99, 43]],\n",
       "\n",
       "       [[75, 21],\n",
       "        [57, 12]],\n",
       "\n",
       "       [[87, 26],\n",
       "        [18, 84]]])"
      ]
     },
     "execution_count": 19,
     "metadata": {},
     "output_type": "execute_result"
    }
   ],
   "source": [
    "Tensor"
   ]
  },
  {
   "cell_type": "code",
   "execution_count": 20,
   "metadata": {},
   "outputs": [
    {
     "data": {
      "text/plain": [
       "(4, 2, 2)"
      ]
     },
     "execution_count": 20,
     "metadata": {},
     "output_type": "execute_result"
    }
   ],
   "source": [
    "Tensor.shape"
   ]
  },
  {
   "cell_type": "markdown",
   "metadata": {},
   "source": [
    "* Lakukan perkalian terhadap matrix berikut:\n",
    "\n",
    "$A = \\begin{bmatrix} 23 & 50 & 19 \\\\ 7 & 12 & 109 \\\\ 57 & 67 & 98 \\end{bmatrix}$  $B = \\begin{bmatrix} 17 \\\\ 22 \\\\ 19 \\end{bmatrix} $"
   ]
  },
  {
   "cell_type": "code",
   "execution_count": 22,
   "metadata": {},
   "outputs": [],
   "source": [
    "A = np.array(\n",
    "    [\n",
    "        [23,50,9],\n",
    "        [7,12,109],\n",
    "        [57,67,98]\n",
    "    ]\n",
    ")\n",
    "\n",
    "B = np.array([[17],[22],[19]])"
   ]
  },
  {
   "cell_type": "code",
   "execution_count": 23,
   "metadata": {},
   "outputs": [
    {
     "name": "stdout",
     "output_type": "stream",
     "text": [
      "[[ 391  850  153]\n",
      " [ 154  264 2398]\n",
      " [1083 1273 1862]]\n"
     ]
    }
   ],
   "source": [
    "#perkalian kedua matriks\n",
    "\n",
    "#menggunakan Hadamar Product\n",
    "print(A*B)"
   ]
  },
  {
   "cell_type": "code",
   "execution_count": 24,
   "metadata": {},
   "outputs": [
    {
     "name": "stdout",
     "output_type": "stream",
     "text": [
      "[[1662]\n",
      " [2454]\n",
      " [4305]]\n"
     ]
    }
   ],
   "source": [
    "#menggunakan dot product\n",
    "print(A@B)\n",
    "\n"
   ]
  },
  {
   "cell_type": "code",
   "execution_count": 26,
   "metadata": {},
   "outputs": [
    {
     "name": "stdout",
     "output_type": "stream",
     "text": [
      "[[1662]\n",
      " [2454]\n",
      " [4305]]\n"
     ]
    }
   ],
   "source": [
    "print(A.dot(B))"
   ]
  },
  {
   "cell_type": "markdown",
   "metadata": {},
   "source": [
    "* Lakukan Transpose, hitung determinan, dan inverse terhadap matrix dibawah ini:\n",
    "\n",
    "$$A = \\begin{bmatrix} 23 & 50 & 19 \\\\ 7 & 12 & 109 \\\\ 57 & 67 & 98 \\end{bmatrix} $$"
   ]
  },
  {
   "cell_type": "code",
   "execution_count": 27,
   "metadata": {},
   "outputs": [
    {
     "data": {
      "text/plain": [
       "array([[ 23,  50,   9],\n",
       "       [  7,  12, 109],\n",
       "       [ 57,  67,  98]])"
      ]
     },
     "execution_count": 27,
     "metadata": {},
     "output_type": "execute_result"
    }
   ],
   "source": [
    "A"
   ]
  },
  {
   "cell_type": "code",
   "execution_count": 30,
   "metadata": {},
   "outputs": [
    {
     "name": "stdout",
     "output_type": "stream",
     "text": [
      "Transpose matriks A :\n",
      "[[ 23   7  57]\n",
      " [ 50  12  67]\n",
      " [  9 109  98]]\n"
     ]
    }
   ],
   "source": [
    "#Transpose Matriks\n",
    "print(\"Transpose matriks A :\")\n",
    "print(A.T)"
   ]
  },
  {
   "cell_type": "code",
   "execution_count": 31,
   "metadata": {},
   "outputs": [
    {
     "name": "stdout",
     "output_type": "stream",
     "text": [
      "Hasil determinan dari matriks A :\n",
      "133494.0\n"
     ]
    }
   ],
   "source": [
    "#Determinan Matriks A\n",
    "from numpy.linalg import det\n",
    "\n",
    "print(\"Hasil determinan dari matriks A :\")\n",
    "print(det(A))"
   ]
  },
  {
   "cell_type": "code",
   "execution_count": 32,
   "metadata": {},
   "outputs": [
    {
     "name": "stdout",
     "output_type": "stream",
     "text": [
      "Hasil inverse dari matriks A :\n",
      "[[-0.04589719 -0.03218871  0.04001678]\n",
      " [ 0.04140261  0.01304178 -0.01830794]\n",
      " [-0.00161056  0.00980568 -0.00055433]]\n"
     ]
    }
   ],
   "source": [
    "#Invers matriks A\n",
    "print(\"Hasil inverse dari matriks A :\")\n",
    "\n",
    "print(np.linalg.inv(A))"
   ]
  }
 ],
 "metadata": {
  "interpreter": {
   "hash": "89a5e99bca534775d831a361c82d740daac87034074a14017314d0e468cf7861"
  },
  "kernelspec": {
   "display_name": "Python 3.9.7 64-bit ('base': conda)",
   "language": "python",
   "name": "python3"
  },
  "language_info": {
   "codemirror_mode": {
    "name": "ipython",
    "version": 3
   },
   "file_extension": ".py",
   "mimetype": "text/x-python",
   "name": "python",
   "nbconvert_exporter": "python",
   "pygments_lexer": "ipython3",
   "version": "3.9.7"
  },
  "orig_nbformat": 4
 },
 "nbformat": 4,
 "nbformat_minor": 2
}
