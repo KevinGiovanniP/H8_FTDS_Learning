{
 "cells": [
  {
   "cell_type": "markdown",
   "metadata": {},
   "source": [
    "* Akses data-data pada https://www.kaggle.com/anlgrbz/student-demographics-online-education-dataoulad kecuali studentVle.csv\n",
    "* Koneksikan Python dengan SQL Database menggunakan SQLite.\n",
    "* Simpan masing-masing data ke masing-masing tabel ke dalam SQLite database menggunakan keyword CREATE dan INSERT.\n",
    "* Buatlah query select untuk memperoleh data dengan kolom: id_student, region, code_module, assessment_type, score. Data yang diambil hanya dengan code_presentation 2014B.\n",
    "* Simpan hasil select record ke sebuah pandas dataframe, kemudian tampilkan hasilnya dan simpan ke dalam file excel."
   ]
  },
  {
   "cell_type": "code",
   "execution_count": null,
   "metadata": {},
   "outputs": [],
   "source": []
  }
 ],
 "metadata": {
  "interpreter": {
   "hash": "89a5e99bca534775d831a361c82d740daac87034074a14017314d0e468cf7861"
  },
  "kernelspec": {
   "display_name": "Python 3.9.7 64-bit ('base': conda)",
   "language": "python",
   "name": "python3"
  },
  "language_info": {
   "name": "python",
   "version": "3.9.7"
  },
  "orig_nbformat": 4
 },
 "nbformat": 4,
 "nbformat_minor": 2
}
