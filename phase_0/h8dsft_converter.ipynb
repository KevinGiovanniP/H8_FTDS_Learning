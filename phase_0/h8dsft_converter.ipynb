{
 "cells": [
  {
   "cell_type": "markdown",
   "metadata": {},
   "source": [
    "## Non Graded Challenge 2\n",
    "\n",
    "- Buatlah sebuah function yang dapat mengkonversi suhu dari kelvin ke celcius, dan celcius ke kelvin.\n",
    "- Buatlah sebuah function yang dapat mengkonversi suhu ke fahrenheit. Tambahkan parameter untuk memastikan bahwa argumen yang dimasukan adalah celcius atau kelvin. Panggil function yang pertama jika diperlukan.\n",
    "- Buatlah sebuah function yang dapat mengkonversi suhu dari fahrenheit. \n",
    "- Berikan -argumen untuk memastikan bahwa outputnya dalah celcius atau kelvin.▪Berikan dokumentasi pada setiap baris kode yang kalian tulis.\n"
   ]
  },
  {
   "cell_type": "code",
   "execution_count": null,
   "metadata": {},
   "outputs": [],
   "source": [
    "## Non Graded Challenge 2\n",
    "\n",
    "def kelvin_ke_celcius(suhu1, suhu2)\n",
    "    input(\"masukkan suhu \")"
   ]
  }
 ],
 "metadata": {
  "language_info": {
   "name": "python"
  },
  "orig_nbformat": 4
 },
 "nbformat": 4,
 "nbformat_minor": 2
}
